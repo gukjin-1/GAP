{
  "nbformat": 4,
  "nbformat_minor": 0,
  "metadata": {
    "colab": {
      "name": "노인실태조사 전처리.ipynb",
      "provenance": [],
      "collapsed_sections": []
    },
    "kernelspec": {
      "name": "python3",
      "display_name": "Python 3"
    },
    "language_info": {
      "name": "python"
    }
  },
  "cells": [
    {
      "cell_type": "code",
      "execution_count": 1,
      "metadata": {
        "id": "v4y5tPeePHm1"
      },
      "outputs": [],
      "source": [
        "import pandas as pd\n",
        "import numpy as np"
      ]
    },
    {
      "cell_type": "code",
      "source": [
        "df = pd.read_csv('/content/2020년 노인실태조사_ver2.0(최종공개용).csv')\n",
        "# df = df[['RES_SEX','E1_1','RES_EDU1','B1','H16_2']] # 성별 직업지위  교육수준 건강수준  소득수준\n",
        "df.head()"
      ],
      "metadata": {
        "colab": {
          "base_uri": "https://localhost:8080/",
          "height": 300
        },
        "id": "tDZpK_K0SlwJ",
        "outputId": "d27a2675-4350-43f2-b597-6055a9ec33d4"
      },
      "execution_count": 154,
      "outputs": [
        {
          "output_type": "execute_result",
          "data": {
            "text/plain": [
              "    PID  HNO  AREA  EDM  ANS_TYPE  ANS_SUB1  ANS_SUB2  ANS_SUB3  S9_0  S9_2  \\\n",
              "0  7501    1    35    2         0        99       999         1     0    99   \n",
              "1  7601    1    35    2         0        99       999         1     0    99   \n",
              "2  7802    2    23    1         0        99       999         1     1     1   \n",
              "3  7801    1    23    1         0        99       999         1     0    99   \n",
              "4  8001    1    35    1         0        99       999         1     0    99   \n",
              "\n",
              "   ...  RES_YY  RES_MM  RES_AGE  RES_MAR  RES_EDU1  RES_EDU2  RES_YN  RES_SUB  \\\n",
              "0  ...    1952      10       67        1         4         9       1        9   \n",
              "1  ...    1951      12       68        3         2         0       1        9   \n",
              "2  ...    1954       3       66        2         5        12       1        9   \n",
              "3  ...    1954       1       66        2         5        12       1        9   \n",
              "4  ...    1951      12       68        3         3         6       1        9   \n",
              "\n",
              "       f_wgt1    s_wgt1  \n",
              "0  393.325736  0.512734  \n",
              "1  393.325736  0.512734  \n",
              "2  587.163656  0.765418  \n",
              "3  640.643430  0.835133  \n",
              "4  493.769927  0.643671  \n",
              "\n",
              "[5 rows x 915 columns]"
            ],
            "text/html": [
              "\n",
              "  <div id=\"df-ae4d4233-bfd8-4d24-a70d-8befd8a96940\">\n",
              "    <div class=\"colab-df-container\">\n",
              "      <div>\n",
              "<style scoped>\n",
              "    .dataframe tbody tr th:only-of-type {\n",
              "        vertical-align: middle;\n",
              "    }\n",
              "\n",
              "    .dataframe tbody tr th {\n",
              "        vertical-align: top;\n",
              "    }\n",
              "\n",
              "    .dataframe thead th {\n",
              "        text-align: right;\n",
              "    }\n",
              "</style>\n",
              "<table border=\"1\" class=\"dataframe\">\n",
              "  <thead>\n",
              "    <tr style=\"text-align: right;\">\n",
              "      <th></th>\n",
              "      <th>PID</th>\n",
              "      <th>HNO</th>\n",
              "      <th>AREA</th>\n",
              "      <th>EDM</th>\n",
              "      <th>ANS_TYPE</th>\n",
              "      <th>ANS_SUB1</th>\n",
              "      <th>ANS_SUB2</th>\n",
              "      <th>ANS_SUB3</th>\n",
              "      <th>S9_0</th>\n",
              "      <th>S9_2</th>\n",
              "      <th>...</th>\n",
              "      <th>RES_YY</th>\n",
              "      <th>RES_MM</th>\n",
              "      <th>RES_AGE</th>\n",
              "      <th>RES_MAR</th>\n",
              "      <th>RES_EDU1</th>\n",
              "      <th>RES_EDU2</th>\n",
              "      <th>RES_YN</th>\n",
              "      <th>RES_SUB</th>\n",
              "      <th>f_wgt1</th>\n",
              "      <th>s_wgt1</th>\n",
              "    </tr>\n",
              "  </thead>\n",
              "  <tbody>\n",
              "    <tr>\n",
              "      <th>0</th>\n",
              "      <td>7501</td>\n",
              "      <td>1</td>\n",
              "      <td>35</td>\n",
              "      <td>2</td>\n",
              "      <td>0</td>\n",
              "      <td>99</td>\n",
              "      <td>999</td>\n",
              "      <td>1</td>\n",
              "      <td>0</td>\n",
              "      <td>99</td>\n",
              "      <td>...</td>\n",
              "      <td>1952</td>\n",
              "      <td>10</td>\n",
              "      <td>67</td>\n",
              "      <td>1</td>\n",
              "      <td>4</td>\n",
              "      <td>9</td>\n",
              "      <td>1</td>\n",
              "      <td>9</td>\n",
              "      <td>393.325736</td>\n",
              "      <td>0.512734</td>\n",
              "    </tr>\n",
              "    <tr>\n",
              "      <th>1</th>\n",
              "      <td>7601</td>\n",
              "      <td>1</td>\n",
              "      <td>35</td>\n",
              "      <td>2</td>\n",
              "      <td>0</td>\n",
              "      <td>99</td>\n",
              "      <td>999</td>\n",
              "      <td>1</td>\n",
              "      <td>0</td>\n",
              "      <td>99</td>\n",
              "      <td>...</td>\n",
              "      <td>1951</td>\n",
              "      <td>12</td>\n",
              "      <td>68</td>\n",
              "      <td>3</td>\n",
              "      <td>2</td>\n",
              "      <td>0</td>\n",
              "      <td>1</td>\n",
              "      <td>9</td>\n",
              "      <td>393.325736</td>\n",
              "      <td>0.512734</td>\n",
              "    </tr>\n",
              "    <tr>\n",
              "      <th>2</th>\n",
              "      <td>7802</td>\n",
              "      <td>2</td>\n",
              "      <td>23</td>\n",
              "      <td>1</td>\n",
              "      <td>0</td>\n",
              "      <td>99</td>\n",
              "      <td>999</td>\n",
              "      <td>1</td>\n",
              "      <td>1</td>\n",
              "      <td>1</td>\n",
              "      <td>...</td>\n",
              "      <td>1954</td>\n",
              "      <td>3</td>\n",
              "      <td>66</td>\n",
              "      <td>2</td>\n",
              "      <td>5</td>\n",
              "      <td>12</td>\n",
              "      <td>1</td>\n",
              "      <td>9</td>\n",
              "      <td>587.163656</td>\n",
              "      <td>0.765418</td>\n",
              "    </tr>\n",
              "    <tr>\n",
              "      <th>3</th>\n",
              "      <td>7801</td>\n",
              "      <td>1</td>\n",
              "      <td>23</td>\n",
              "      <td>1</td>\n",
              "      <td>0</td>\n",
              "      <td>99</td>\n",
              "      <td>999</td>\n",
              "      <td>1</td>\n",
              "      <td>0</td>\n",
              "      <td>99</td>\n",
              "      <td>...</td>\n",
              "      <td>1954</td>\n",
              "      <td>1</td>\n",
              "      <td>66</td>\n",
              "      <td>2</td>\n",
              "      <td>5</td>\n",
              "      <td>12</td>\n",
              "      <td>1</td>\n",
              "      <td>9</td>\n",
              "      <td>640.643430</td>\n",
              "      <td>0.835133</td>\n",
              "    </tr>\n",
              "    <tr>\n",
              "      <th>4</th>\n",
              "      <td>8001</td>\n",
              "      <td>1</td>\n",
              "      <td>35</td>\n",
              "      <td>1</td>\n",
              "      <td>0</td>\n",
              "      <td>99</td>\n",
              "      <td>999</td>\n",
              "      <td>1</td>\n",
              "      <td>0</td>\n",
              "      <td>99</td>\n",
              "      <td>...</td>\n",
              "      <td>1951</td>\n",
              "      <td>12</td>\n",
              "      <td>68</td>\n",
              "      <td>3</td>\n",
              "      <td>3</td>\n",
              "      <td>6</td>\n",
              "      <td>1</td>\n",
              "      <td>9</td>\n",
              "      <td>493.769927</td>\n",
              "      <td>0.643671</td>\n",
              "    </tr>\n",
              "  </tbody>\n",
              "</table>\n",
              "<p>5 rows × 915 columns</p>\n",
              "</div>\n",
              "      <button class=\"colab-df-convert\" onclick=\"convertToInteractive('df-ae4d4233-bfd8-4d24-a70d-8befd8a96940')\"\n",
              "              title=\"Convert this dataframe to an interactive table.\"\n",
              "              style=\"display:none;\">\n",
              "        \n",
              "  <svg xmlns=\"http://www.w3.org/2000/svg\" height=\"24px\"viewBox=\"0 0 24 24\"\n",
              "       width=\"24px\">\n",
              "    <path d=\"M0 0h24v24H0V0z\" fill=\"none\"/>\n",
              "    <path d=\"M18.56 5.44l.94 2.06.94-2.06 2.06-.94-2.06-.94-.94-2.06-.94 2.06-2.06.94zm-11 1L8.5 8.5l.94-2.06 2.06-.94-2.06-.94L8.5 2.5l-.94 2.06-2.06.94zm10 10l.94 2.06.94-2.06 2.06-.94-2.06-.94-.94-2.06-.94 2.06-2.06.94z\"/><path d=\"M17.41 7.96l-1.37-1.37c-.4-.4-.92-.59-1.43-.59-.52 0-1.04.2-1.43.59L10.3 9.45l-7.72 7.72c-.78.78-.78 2.05 0 2.83L4 21.41c.39.39.9.59 1.41.59.51 0 1.02-.2 1.41-.59l7.78-7.78 2.81-2.81c.8-.78.8-2.07 0-2.86zM5.41 20L4 18.59l7.72-7.72 1.47 1.35L5.41 20z\"/>\n",
              "  </svg>\n",
              "      </button>\n",
              "      \n",
              "  <style>\n",
              "    .colab-df-container {\n",
              "      display:flex;\n",
              "      flex-wrap:wrap;\n",
              "      gap: 12px;\n",
              "    }\n",
              "\n",
              "    .colab-df-convert {\n",
              "      background-color: #E8F0FE;\n",
              "      border: none;\n",
              "      border-radius: 50%;\n",
              "      cursor: pointer;\n",
              "      display: none;\n",
              "      fill: #1967D2;\n",
              "      height: 32px;\n",
              "      padding: 0 0 0 0;\n",
              "      width: 32px;\n",
              "    }\n",
              "\n",
              "    .colab-df-convert:hover {\n",
              "      background-color: #E2EBFA;\n",
              "      box-shadow: 0px 1px 2px rgba(60, 64, 67, 0.3), 0px 1px 3px 1px rgba(60, 64, 67, 0.15);\n",
              "      fill: #174EA6;\n",
              "    }\n",
              "\n",
              "    [theme=dark] .colab-df-convert {\n",
              "      background-color: #3B4455;\n",
              "      fill: #D2E3FC;\n",
              "    }\n",
              "\n",
              "    [theme=dark] .colab-df-convert:hover {\n",
              "      background-color: #434B5C;\n",
              "      box-shadow: 0px 1px 3px 1px rgba(0, 0, 0, 0.15);\n",
              "      filter: drop-shadow(0px 1px 2px rgba(0, 0, 0, 0.3));\n",
              "      fill: #FFFFFF;\n",
              "    }\n",
              "  </style>\n",
              "\n",
              "      <script>\n",
              "        const buttonEl =\n",
              "          document.querySelector('#df-ae4d4233-bfd8-4d24-a70d-8befd8a96940 button.colab-df-convert');\n",
              "        buttonEl.style.display =\n",
              "          google.colab.kernel.accessAllowed ? 'block' : 'none';\n",
              "\n",
              "        async function convertToInteractive(key) {\n",
              "          const element = document.querySelector('#df-ae4d4233-bfd8-4d24-a70d-8befd8a96940');\n",
              "          const dataTable =\n",
              "            await google.colab.kernel.invokeFunction('convertToInteractive',\n",
              "                                                     [key], {});\n",
              "          if (!dataTable) return;\n",
              "\n",
              "          const docLinkHtml = 'Like what you see? Visit the ' +\n",
              "            '<a target=\"_blank\" href=https://colab.research.google.com/notebooks/data_table.ipynb>data table notebook</a>'\n",
              "            + ' to learn more about interactive tables.';\n",
              "          element.innerHTML = '';\n",
              "          dataTable['output_type'] = 'display_data';\n",
              "          await google.colab.output.renderOutput(dataTable, element);\n",
              "          const docLink = document.createElement('div');\n",
              "          docLink.innerHTML = docLinkHtml;\n",
              "          element.appendChild(docLink);\n",
              "        }\n",
              "      </script>\n",
              "    </div>\n",
              "  </div>\n",
              "  "
            ]
          },
          "metadata": {},
          "execution_count": 154
        }
      ]
    },
    {
      "cell_type": "code",
      "source": [
        "df['RES_SEX'].value_counts()\n",
        "# 1 남자 2 여자"
      ],
      "metadata": {
        "colab": {
          "base_uri": "https://localhost:8080/"
        },
        "id": "VOpmjt4PY5Bk",
        "outputId": "eb41ade2-f820-413b-a278-4a3613448eb7"
      },
      "execution_count": 155,
      "outputs": [
        {
          "output_type": "execute_result",
          "data": {
            "text/plain": [
              "2    6062\n",
              "1    4035\n",
              "Name: RES_SEX, dtype: int64"
            ]
          },
          "metadata": {},
          "execution_count": 155
        }
      ]
    },
    {
      "cell_type": "code",
      "source": [
        "df['Gender'] = np.where(df['RES_SEX'] == 1, '남자','여자')"
      ],
      "metadata": {
        "id": "pTffqdL3Y_x6"
      },
      "execution_count": 156,
      "outputs": []
    },
    {
      "cell_type": "code",
      "source": [
        "df['E1_1'].value_counts() # 직업"
      ],
      "metadata": {
        "colab": {
          "base_uri": "https://localhost:8080/"
        },
        "id": "FrR5S4izV_hn",
        "outputId": "a5bcafa1-2661-4657-ba48-6cf683ad0f23"
      },
      "execution_count": 157,
      "outputs": [
        {
          "output_type": "execute_result",
          "data": {
            "text/plain": [
              "999    6312\n",
              "94     1059\n",
              "61      576\n",
              "99      477\n",
              "44      279\n",
              "15      164\n",
              "95      142\n",
              "52      138\n",
              "43       91\n",
              "14       90\n",
              "42       73\n",
              "93       67\n",
              "87       53\n",
              "24       52\n",
              "91       43\n",
              "77       40\n",
              "75       35\n",
              "92       33\n",
              "72       29\n",
              "79       29\n",
              "71       28\n",
              "13       20\n",
              "76       19\n",
              "51       19\n",
              "12       18\n",
              "39       17\n",
              "74       16\n",
              "85       14\n",
              "53       13\n",
              "41       13\n",
              "11       12\n",
              "32       12\n",
              "62       11\n",
              "25       11\n",
              "82       10\n",
              "86       10\n",
              "31       10\n",
              "73        9\n",
              "63        8\n",
              "100       8\n",
              "81        6\n",
              "28        6\n",
              "88        6\n",
              "89        5\n",
              "22        5\n",
              "84        2\n",
              "26        2\n",
              "23        2\n",
              "27        1\n",
              "33        1\n",
              "78        1\n",
              "Name: E1_1, dtype: int64"
            ]
          },
          "metadata": {},
          "execution_count": 157
        }
      ]
    },
    {
      "cell_type": "code",
      "source": [
        "df['E1'].value_counts() # 2 은퇴"
      ],
      "metadata": {
        "colab": {
          "base_uri": "https://localhost:8080/"
        },
        "id": "-F_nqwTjs3RI",
        "outputId": "cb0c4f54-f3f7-439c-e925-a31283e99816"
      },
      "execution_count": 147,
      "outputs": [
        {
          "output_type": "execute_result",
          "data": {
            "text/plain": [
              "2    4908\n",
              "1    3785\n",
              "3    1404\n",
              "Name: E1, dtype: int64"
            ]
          },
          "metadata": {},
          "execution_count": 147
        }
      ]
    },
    {
      "cell_type": "code",
      "source": [
        "# E1_3 3,4번 자영업 6번 무급"
      ],
      "metadata": {
        "id": "x34NnV5_ut_0"
      },
      "execution_count": null,
      "outputs": []
    },
    {
      "cell_type": "code",
      "source": [
        "df['Job'] = np.where(df['E1_1'].isin([11,12,13,14,15,21,22,23,24,25,26,27,28]),'임금_고숙련',\n",
        "                     np.where(df['E1_1'].isin([31,32,33,39,61,62,63,72,73,74,75,76,77,78,79,81,82,83,84,85,86,87,88,89,100]),'임금_중숙련',\n",
        "                              np.where(df['E1_1'].isin([41,42,43,44,51,52,53,91,92,93,94,95,99]),'임금_저숙련',\n",
        "                                       np.where(df['E1_3'].isin([3,4]),'자영업',\n",
        "                                                np.where(df['E1_3']==6 ,'무급가족종사자',\n",
        "                                                         np.where(df['E1']==2, '은퇴',\n",
        "                                                                  np.where(df['E1_1']==999,'비경활',np.nan)))))))\n",
        "                                       "
      ],
      "metadata": {
        "id": "8jCtk9WmtKOy"
      },
      "execution_count": 159,
      "outputs": []
    },
    {
      "cell_type": "code",
      "source": [
        "df.Job.value_counts().isna().sum()"
      ],
      "metadata": {
        "colab": {
          "base_uri": "https://localhost:8080/"
        },
        "id": "NEj6ddmPduZP",
        "outputId": "292ee08f-84cf-405f-96c0-8b650a7e33d2"
      },
      "execution_count": 162,
      "outputs": [
        {
          "output_type": "execute_result",
          "data": {
            "text/plain": [
              "0"
            ]
          },
          "metadata": {},
          "execution_count": 162
        }
      ]
    },
    {
      "cell_type": "code",
      "source": [
        "df['RES_EDU1'].value_counts()\n",
        "# 1 무학(글자모름) 2 무학(글자해독) 3초등학교 4 중학교 5 고등학교 6 대학(4년미만) 7 대학이상"
      ],
      "metadata": {
        "colab": {
          "base_uri": "https://localhost:8080/"
        },
        "id": "LHf3e45LWMKK",
        "outputId": "dda7a458-0b21-4ce8-800c-d5735c4da586"
      },
      "execution_count": 163,
      "outputs": [
        {
          "output_type": "execute_result",
          "data": {
            "text/plain": [
              "3    3377\n",
              "5    2668\n",
              "4    2369\n",
              "2     830\n",
              "1     341\n",
              "7     309\n",
              "6     203\n",
              "Name: RES_EDU1, dtype: int64"
            ]
          },
          "metadata": {},
          "execution_count": 163
        }
      ]
    },
    {
      "cell_type": "code",
      "source": [
        "df['Edu'] = np.where(df['RES_EDU1'] >= 6 , '대학교 이상',\n",
        "                    np.where(df['RES_EDU1']== 5, '고등',\n",
        "                              np.where(df['RES_EDU1']== 4, '중등','초등'\n",
        "                    )))"
      ],
      "metadata": {
        "id": "RoS9lIU4ZYrl"
      },
      "execution_count": 164,
      "outputs": []
    },
    {
      "cell_type": "code",
      "source": [
        "df.Edu.value_counts()"
      ],
      "metadata": {
        "colab": {
          "base_uri": "https://localhost:8080/"
        },
        "id": "tMronCMkacFX",
        "outputId": "15df325f-704c-442e-fc4b-b2a29998d11f"
      },
      "execution_count": 165,
      "outputs": [
        {
          "output_type": "execute_result",
          "data": {
            "text/plain": [
              "초등        4548\n",
              "고등        2668\n",
              "중등        2369\n",
              "대학교 이상     512\n",
              "Name: Edu, dtype: int64"
            ]
          },
          "metadata": {},
          "execution_count": 165
        }
      ]
    },
    {
      "cell_type": "code",
      "source": [
        "df['B1'].value_counts()\n",
        "# 1 매우 건강하다 2 건강한 편이다 3 그저 그렇다 4 건강이 나쁜 편이다 5 건강이 매우 나쁘다 9 비해당"
      ],
      "metadata": {
        "colab": {
          "base_uri": "https://localhost:8080/"
        },
        "id": "iJr0bH2iXarc",
        "outputId": "1bfa312d-7387-4a25-e386-3d303e6ce448"
      },
      "execution_count": 166,
      "outputs": [
        {
          "output_type": "execute_result",
          "data": {
            "text/plain": [
              "2    4507\n",
              "3    3120\n",
              "4    1659\n",
              "1     433\n",
              "5     201\n",
              "9     177\n",
              "Name: B1, dtype: int64"
            ]
          },
          "metadata": {},
          "execution_count": 166
        }
      ]
    },
    {
      "cell_type": "code",
      "source": [
        "df['Health'] = np.where(df['B1']<=3, '전혀 지장없음','활동에 제한 있음'\n",
        "                        )"
      ],
      "metadata": {
        "id": "WtMH0NVbYmbA"
      },
      "execution_count": 167,
      "outputs": []
    },
    {
      "cell_type": "code",
      "source": [
        "# G026; 자신의 건강상태, G027; 자신의 경제상태, G028; 배우자와의 관계, G029; 자녀와의 관계, G030; 전반적인 삶의 질\n",
        "df['Self_conf_Score'] = df['H16_1'] + df['H16_2']+ df['H16_3'] + df['H16_4'] + df['H16_7']\n"
      ],
      "metadata": {
        "id": "xPzs4DS8bYBo"
      },
      "execution_count": 168,
      "outputs": []
    },
    {
      "cell_type": "code",
      "source": [
        "df['H16_1'].replace(9,0, inplace=True)\n",
        "df['H16_2'].replace(9,0, inplace=True)\n",
        "df['H16_3'].replace(9,0, inplace=True)\n",
        "df['H16_4'].replace(9,0, inplace=True)\n",
        "df['H16_7'].replace(9,0, inplace=True)"
      ],
      "metadata": {
        "id": "JDygS9Fcmc00"
      },
      "execution_count": 169,
      "outputs": []
    },
    {
      "cell_type": "code",
      "source": [
        "df['Self_conf'] = np.where(df['Self_conf_Score']<9, '상',\n",
        "                           np.where(df['Self_conf_Score']<16, '중','하'))"
      ],
      "metadata": {
        "id": "TBvnU5TibZpl"
      },
      "execution_count": 170,
      "outputs": []
    },
    {
      "cell_type": "code",
      "source": [
        "df['Self_conf'].value_counts()"
      ],
      "metadata": {
        "colab": {
          "base_uri": "https://localhost:8080/"
        },
        "id": "39f7pSj6kOTg",
        "outputId": "9407c6d2-26fe-4f6e-8840-149670c9df9d"
      },
      "execution_count": 171,
      "outputs": [
        {
          "output_type": "execute_result",
          "data": {
            "text/plain": [
              "하    4765\n",
              "중    4634\n",
              "상     698\n",
              "Name: Self_conf, dtype: int64"
            ]
          },
          "metadata": {},
          "execution_count": 171
        }
      ]
    },
    {
      "cell_type": "code",
      "source": [
        "df['J3b_1_13'].replace(999998,0) # 소득\n",
        "df['J3b_1_13'].replace(999999,0)"
      ],
      "metadata": {
        "colab": {
          "base_uri": "https://localhost:8080/"
        },
        "id": "fPIgvfcYxbrH",
        "outputId": "2db23c9c-6432-4d4f-ab2a-d980dacf5897"
      },
      "execution_count": 173,
      "outputs": [
        {
          "output_type": "execute_result",
          "data": {
            "text/plain": [
              "0        1789\n",
              "1        1389\n",
              "2        2180\n",
              "3        3100\n",
              "4         719\n",
              "         ... \n",
              "10092     550\n",
              "10093     500\n",
              "10094    1320\n",
              "10095     300\n",
              "10096    2850\n",
              "Name: J3b_1_13, Length: 10097, dtype: int64"
            ]
          },
          "metadata": {},
          "execution_count": 173
        }
      ]
    },
    {
      "cell_type": "code",
      "source": [
        "df['J3b_1_13'].describe()"
      ],
      "metadata": {
        "colab": {
          "base_uri": "https://localhost:8080/"
        },
        "id": "irkpamt4xboS",
        "outputId": "bc25482a-7032-4965-ca4b-e01f27664adc"
      },
      "execution_count": 174,
      "outputs": [
        {
          "output_type": "execute_result",
          "data": {
            "text/plain": [
              "count    10097.000000\n",
              "mean      1489.300683\n",
              "std       2326.339146\n",
              "min          0.000000\n",
              "25%        500.000000\n",
              "50%        885.000000\n",
              "75%       1900.000000\n",
              "max      59800.000000\n",
              "Name: J3b_1_13, dtype: float64"
            ]
          },
          "metadata": {},
          "execution_count": 174
        }
      ]
    },
    {
      "cell_type": "code",
      "source": [
        "df['Earn'] = np.where(df['J3b_1_13'] > df['J3b_1_13'].describe()['75%'], '상',\n",
        "                            np.where(df['J3b_1_13'] < df['J3b_1_13'].describe()['25%'], '하', '중'))"
      ],
      "metadata": {
        "id": "qlnE9qOMyMbl"
      },
      "execution_count": 176,
      "outputs": []
    },
    {
      "cell_type": "code",
      "source": [
        "df = df[['Gender','Job','Edu','Health','Earn','Self_conf']]"
      ],
      "metadata": {
        "id": "4ThzDts0mDJa"
      },
      "execution_count": 177,
      "outputs": []
    },
    {
      "cell_type": "code",
      "source": [
        "df.head()"
      ],
      "metadata": {
        "colab": {
          "base_uri": "https://localhost:8080/",
          "height": 206
        },
        "id": "9kaimAD-oIbb",
        "outputId": "5bf42312-df58-4db2-ac53-7bf645d6b9a2"
      },
      "execution_count": 178,
      "outputs": [
        {
          "output_type": "execute_result",
          "data": {
            "text/plain": [
              "  Gender     Job Edu   Health Earn Self_conf\n",
              "0     여자  임금_저숙련  중등  전혀 지장없음    중         하\n",
              "1     여자  임금_중숙련  초등  전혀 지장없음    중         하\n",
              "2     여자  임금_고숙련  고등  전혀 지장없음    상         중\n",
              "3     남자  임금_중숙련  고등  전혀 지장없음    상         중\n",
              "4     여자  임금_저숙련  초등  전혀 지장없음    중         하"
            ],
            "text/html": [
              "\n",
              "  <div id=\"df-9f6af380-2636-478e-ae27-9084e847cac9\">\n",
              "    <div class=\"colab-df-container\">\n",
              "      <div>\n",
              "<style scoped>\n",
              "    .dataframe tbody tr th:only-of-type {\n",
              "        vertical-align: middle;\n",
              "    }\n",
              "\n",
              "    .dataframe tbody tr th {\n",
              "        vertical-align: top;\n",
              "    }\n",
              "\n",
              "    .dataframe thead th {\n",
              "        text-align: right;\n",
              "    }\n",
              "</style>\n",
              "<table border=\"1\" class=\"dataframe\">\n",
              "  <thead>\n",
              "    <tr style=\"text-align: right;\">\n",
              "      <th></th>\n",
              "      <th>Gender</th>\n",
              "      <th>Job</th>\n",
              "      <th>Edu</th>\n",
              "      <th>Health</th>\n",
              "      <th>Earn</th>\n",
              "      <th>Self_conf</th>\n",
              "    </tr>\n",
              "  </thead>\n",
              "  <tbody>\n",
              "    <tr>\n",
              "      <th>0</th>\n",
              "      <td>여자</td>\n",
              "      <td>임금_저숙련</td>\n",
              "      <td>중등</td>\n",
              "      <td>전혀 지장없음</td>\n",
              "      <td>중</td>\n",
              "      <td>하</td>\n",
              "    </tr>\n",
              "    <tr>\n",
              "      <th>1</th>\n",
              "      <td>여자</td>\n",
              "      <td>임금_중숙련</td>\n",
              "      <td>초등</td>\n",
              "      <td>전혀 지장없음</td>\n",
              "      <td>중</td>\n",
              "      <td>하</td>\n",
              "    </tr>\n",
              "    <tr>\n",
              "      <th>2</th>\n",
              "      <td>여자</td>\n",
              "      <td>임금_고숙련</td>\n",
              "      <td>고등</td>\n",
              "      <td>전혀 지장없음</td>\n",
              "      <td>상</td>\n",
              "      <td>중</td>\n",
              "    </tr>\n",
              "    <tr>\n",
              "      <th>3</th>\n",
              "      <td>남자</td>\n",
              "      <td>임금_중숙련</td>\n",
              "      <td>고등</td>\n",
              "      <td>전혀 지장없음</td>\n",
              "      <td>상</td>\n",
              "      <td>중</td>\n",
              "    </tr>\n",
              "    <tr>\n",
              "      <th>4</th>\n",
              "      <td>여자</td>\n",
              "      <td>임금_저숙련</td>\n",
              "      <td>초등</td>\n",
              "      <td>전혀 지장없음</td>\n",
              "      <td>중</td>\n",
              "      <td>하</td>\n",
              "    </tr>\n",
              "  </tbody>\n",
              "</table>\n",
              "</div>\n",
              "      <button class=\"colab-df-convert\" onclick=\"convertToInteractive('df-9f6af380-2636-478e-ae27-9084e847cac9')\"\n",
              "              title=\"Convert this dataframe to an interactive table.\"\n",
              "              style=\"display:none;\">\n",
              "        \n",
              "  <svg xmlns=\"http://www.w3.org/2000/svg\" height=\"24px\"viewBox=\"0 0 24 24\"\n",
              "       width=\"24px\">\n",
              "    <path d=\"M0 0h24v24H0V0z\" fill=\"none\"/>\n",
              "    <path d=\"M18.56 5.44l.94 2.06.94-2.06 2.06-.94-2.06-.94-.94-2.06-.94 2.06-2.06.94zm-11 1L8.5 8.5l.94-2.06 2.06-.94-2.06-.94L8.5 2.5l-.94 2.06-2.06.94zm10 10l.94 2.06.94-2.06 2.06-.94-2.06-.94-.94-2.06-.94 2.06-2.06.94z\"/><path d=\"M17.41 7.96l-1.37-1.37c-.4-.4-.92-.59-1.43-.59-.52 0-1.04.2-1.43.59L10.3 9.45l-7.72 7.72c-.78.78-.78 2.05 0 2.83L4 21.41c.39.39.9.59 1.41.59.51 0 1.02-.2 1.41-.59l7.78-7.78 2.81-2.81c.8-.78.8-2.07 0-2.86zM5.41 20L4 18.59l7.72-7.72 1.47 1.35L5.41 20z\"/>\n",
              "  </svg>\n",
              "      </button>\n",
              "      \n",
              "  <style>\n",
              "    .colab-df-container {\n",
              "      display:flex;\n",
              "      flex-wrap:wrap;\n",
              "      gap: 12px;\n",
              "    }\n",
              "\n",
              "    .colab-df-convert {\n",
              "      background-color: #E8F0FE;\n",
              "      border: none;\n",
              "      border-radius: 50%;\n",
              "      cursor: pointer;\n",
              "      display: none;\n",
              "      fill: #1967D2;\n",
              "      height: 32px;\n",
              "      padding: 0 0 0 0;\n",
              "      width: 32px;\n",
              "    }\n",
              "\n",
              "    .colab-df-convert:hover {\n",
              "      background-color: #E2EBFA;\n",
              "      box-shadow: 0px 1px 2px rgba(60, 64, 67, 0.3), 0px 1px 3px 1px rgba(60, 64, 67, 0.15);\n",
              "      fill: #174EA6;\n",
              "    }\n",
              "\n",
              "    [theme=dark] .colab-df-convert {\n",
              "      background-color: #3B4455;\n",
              "      fill: #D2E3FC;\n",
              "    }\n",
              "\n",
              "    [theme=dark] .colab-df-convert:hover {\n",
              "      background-color: #434B5C;\n",
              "      box-shadow: 0px 1px 3px 1px rgba(0, 0, 0, 0.15);\n",
              "      filter: drop-shadow(0px 1px 2px rgba(0, 0, 0, 0.3));\n",
              "      fill: #FFFFFF;\n",
              "    }\n",
              "  </style>\n",
              "\n",
              "      <script>\n",
              "        const buttonEl =\n",
              "          document.querySelector('#df-9f6af380-2636-478e-ae27-9084e847cac9 button.colab-df-convert');\n",
              "        buttonEl.style.display =\n",
              "          google.colab.kernel.accessAllowed ? 'block' : 'none';\n",
              "\n",
              "        async function convertToInteractive(key) {\n",
              "          const element = document.querySelector('#df-9f6af380-2636-478e-ae27-9084e847cac9');\n",
              "          const dataTable =\n",
              "            await google.colab.kernel.invokeFunction('convertToInteractive',\n",
              "                                                     [key], {});\n",
              "          if (!dataTable) return;\n",
              "\n",
              "          const docLinkHtml = 'Like what you see? Visit the ' +\n",
              "            '<a target=\"_blank\" href=https://colab.research.google.com/notebooks/data_table.ipynb>data table notebook</a>'\n",
              "            + ' to learn more about interactive tables.';\n",
              "          element.innerHTML = '';\n",
              "          dataTable['output_type'] = 'display_data';\n",
              "          await google.colab.output.renderOutput(dataTable, element);\n",
              "          const docLink = document.createElement('div');\n",
              "          docLink.innerHTML = docLinkHtml;\n",
              "          element.appendChild(docLink);\n",
              "        }\n",
              "      </script>\n",
              "    </div>\n",
              "  </div>\n",
              "  "
            ]
          },
          "metadata": {},
          "execution_count": 178
        }
      ]
    },
    {
      "cell_type": "code",
      "source": [
        "df.shape"
      ],
      "metadata": {
        "colab": {
          "base_uri": "https://localhost:8080/"
        },
        "id": "8WADO_Q2oOjy",
        "outputId": "a3ba1224-3943-438e-9acf-41a04949f662"
      },
      "execution_count": 179,
      "outputs": [
        {
          "output_type": "execute_result",
          "data": {
            "text/plain": [
              "(10097, 6)"
            ]
          },
          "metadata": {},
          "execution_count": 179
        }
      ]
    }
  ]
}