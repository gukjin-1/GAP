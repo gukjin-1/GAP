{
 "cells": [
  {
   "cell_type": "code",
   "execution_count": 2,
   "id": "5f280b2a",
   "metadata": {},
   "outputs": [
    {
     "ename": "ModuleNotFoundError",
     "evalue": "No module named 'seaborn'",
     "output_type": "error",
     "traceback": [
      "\u001b[1;31m---------------------------------------------------------------------------\u001b[0m",
      "\u001b[1;31mModuleNotFoundError\u001b[0m                       Traceback (most recent call last)",
      "\u001b[1;32mc:\\Users\\Eunhye\\Desktop\\빅데이터 기반 지능형 서비스 개발\\multi\\GAP\\노인실태조사_다중&다항회귀분석.ipynb Cell 1'\u001b[0m in \u001b[0;36m<cell line: 3>\u001b[1;34m()\u001b[0m\n\u001b[0;32m      <a href='vscode-notebook-cell:/c%3A/Users/Eunhye/Desktop/%EB%B9%85%EB%8D%B0%EC%9D%B4%ED%84%B0%20%EA%B8%B0%EB%B0%98%20%EC%A7%80%EB%8A%A5%ED%98%95%20%EC%84%9C%EB%B9%84%EC%8A%A4%20%EA%B0%9C%EB%B0%9C/multi/GAP/%EB%85%B8%EC%9D%B8%EC%8B%A4%ED%83%9C%EC%A1%B0%EC%82%AC_%EB%8B%A4%EC%A4%91%26%EB%8B%A4%ED%95%AD%ED%9A%8C%EA%B7%80%EB%B6%84%EC%84%9D.ipynb#ch0000000?line=0'>1</a>\u001b[0m \u001b[39mimport\u001b[39;00m \u001b[39mpandas\u001b[39;00m \u001b[39mas\u001b[39;00m \u001b[39mpd\u001b[39;00m\n\u001b[0;32m      <a href='vscode-notebook-cell:/c%3A/Users/Eunhye/Desktop/%EB%B9%85%EB%8D%B0%EC%9D%B4%ED%84%B0%20%EA%B8%B0%EB%B0%98%20%EC%A7%80%EB%8A%A5%ED%98%95%20%EC%84%9C%EB%B9%84%EC%8A%A4%20%EA%B0%9C%EB%B0%9C/multi/GAP/%EB%85%B8%EC%9D%B8%EC%8B%A4%ED%83%9C%EC%A1%B0%EC%82%AC_%EB%8B%A4%EC%A4%91%26%EB%8B%A4%ED%95%AD%ED%9A%8C%EA%B7%80%EB%B6%84%EC%84%9D.ipynb#ch0000000?line=1'>2</a>\u001b[0m \u001b[39mimport\u001b[39;00m \u001b[39mnumpy\u001b[39;00m \u001b[39mas\u001b[39;00m \u001b[39mnp\u001b[39;00m\n\u001b[1;32m----> <a href='vscode-notebook-cell:/c%3A/Users/Eunhye/Desktop/%EB%B9%85%EB%8D%B0%EC%9D%B4%ED%84%B0%20%EA%B8%B0%EB%B0%98%20%EC%A7%80%EB%8A%A5%ED%98%95%20%EC%84%9C%EB%B9%84%EC%8A%A4%20%EA%B0%9C%EB%B0%9C/multi/GAP/%EB%85%B8%EC%9D%B8%EC%8B%A4%ED%83%9C%EC%A1%B0%EC%82%AC_%EB%8B%A4%EC%A4%91%26%EB%8B%A4%ED%95%AD%ED%9A%8C%EA%B7%80%EB%B6%84%EC%84%9D.ipynb#ch0000000?line=2'>3</a>\u001b[0m \u001b[39mimport\u001b[39;00m \u001b[39mseaborn\u001b[39;00m \u001b[39mas\u001b[39;00m \u001b[39msns\u001b[39;00m\n\u001b[0;32m      <a href='vscode-notebook-cell:/c%3A/Users/Eunhye/Desktop/%EB%B9%85%EB%8D%B0%EC%9D%B4%ED%84%B0%20%EA%B8%B0%EB%B0%98%20%EC%A7%80%EB%8A%A5%ED%98%95%20%EC%84%9C%EB%B9%84%EC%8A%A4%20%EA%B0%9C%EB%B0%9C/multi/GAP/%EB%85%B8%EC%9D%B8%EC%8B%A4%ED%83%9C%EC%A1%B0%EC%82%AC_%EB%8B%A4%EC%A4%91%26%EB%8B%A4%ED%95%AD%ED%9A%8C%EA%B7%80%EB%B6%84%EC%84%9D.ipynb#ch0000000?line=3'>4</a>\u001b[0m \u001b[39mimport\u001b[39;00m \u001b[39mmatplotlib\u001b[39;00m\u001b[39m.\u001b[39;00m\u001b[39mpyplot\u001b[39;00m \u001b[39mas\u001b[39;00m \u001b[39mplt\u001b[39;00m\n",
      "\u001b[1;31mModuleNotFoundError\u001b[0m: No module named 'seaborn'"
     ]
    }
   ],
   "source": [
    "import pandas as pd\n",
    "import numpy as np\n",
    "import seaborn as sns\n",
    "import matplotlib.pyplot as plt"
   ]
  },
  {
   "cell_type": "code",
   "execution_count": null,
   "id": "710154d9",
   "metadata": {},
   "outputs": [
    {
     "name": "stdout",
     "output_type": "stream",
     "text": [
      "<class 'pandas.core.frame.DataFrame'>\n",
      "RangeIndex: 10097 entries, 0 to 10096\n",
      "Data columns (total 7 columns):\n",
      " #   Column    Non-Null Count  Dtype\n",
      "---  ------    --------------  -----\n",
      " 0   연령        10097 non-null  int64\n",
      " 1   혼인상태      10097 non-null  int64\n",
      " 2   동거인수      10097 non-null  int64\n",
      " 3   교육수준      10097 non-null  int64\n",
      " 4   경제상태 만족도  10097 non-null  int64\n",
      " 5   삶 만족도     10097 non-null  int64\n",
      " 6   target    10097 non-null  int64\n",
      "dtypes: int64(7)\n",
      "memory usage: 552.3 KB\n"
     ]
    }
   ],
   "source": [
    "senior_df = pd.read_csv(\"노인실태조사.csv\")\n",
    "senior_df = senior_df[['RES_AGE', 'RES_MAR', 'S5_1', 'RES_EDU1', 'H16_2', 'H16_7', 'E5_1']]\n",
    "senior_df.columns = ['연령', '혼인상태', '동거인수', '교육수준', '경제상태 만족도', '삶 만족도', 'target']\n",
    "senior_df.info()"
   ]
  },
  {
   "cell_type": "markdown",
   "id": "191c42f1",
   "metadata": {},
   "source": [
    "#### 데이터 전처리"
   ]
  },
  {
   "cell_type": "code",
   "execution_count": null,
   "id": "fd7804c0",
   "metadata": {},
   "outputs": [
    {
     "data": {
      "text/plain": [
       "연령          0\n",
       "혼인상태        0\n",
       "동거인수        0\n",
       "교육수준        0\n",
       "경제상태 만족도    0\n",
       "삶 만족도       0\n",
       "target      0\n",
       "dtype: int64"
      ]
     },
     "execution_count": 3,
     "metadata": {},
     "output_type": "execute_result"
    }
   ],
   "source": [
    "senior_df.isnull().sum()"
   ]
  },
  {
   "cell_type": "code",
   "execution_count": null,
   "id": "e8925640",
   "metadata": {},
   "outputs": [
    {
     "name": "stdout",
     "output_type": "stream",
     "text": [
      "<class 'pandas.core.frame.DataFrame'>\n",
      "Int64Index: 2093 entries, 0 to 10071\n",
      "Data columns (total 7 columns):\n",
      " #   Column    Non-Null Count  Dtype\n",
      "---  ------    --------------  -----\n",
      " 0   연령        2093 non-null   int64\n",
      " 1   혼인상태      2093 non-null   int64\n",
      " 2   동거인수      2093 non-null   int64\n",
      " 3   교육수준      2093 non-null   int64\n",
      " 4   경제상태 만족도  2093 non-null   int64\n",
      " 5   삶 만족도     2093 non-null   int64\n",
      " 6   target    2093 non-null   int64\n",
      "dtypes: int64(7)\n",
      "memory usage: 130.8 KB\n"
     ]
    }
   ],
   "source": [
    "# 노인실태조사 : 9 는 결측치\n",
    "\n",
    "d_index = senior_df[senior_df[\"연령\"]==999].index\n",
    "senior_df.drop(d_index, inplace=True)\n",
    "\n",
    "d_index = senior_df[senior_df[\"혼인상태\"]==9].index\n",
    "senior_df.drop(d_index, inplace=True)\n",
    "\n",
    "d_index = senior_df[senior_df[\"교육수준\"]==9].index\n",
    "senior_df.drop(d_index, inplace=True)\n",
    "\n",
    "d_index = senior_df[senior_df[\"경제상태 만족도\"]==9].index\n",
    "senior_df.drop(d_index, inplace=True)\n",
    "\n",
    "d_index = senior_df[senior_df[\"삶 만족도\"]==9].index\n",
    "senior_df.drop(d_index, inplace=True)\n",
    "\n",
    "d_index = senior_df[senior_df[\"target\"]==9].index\n",
    "senior_df.drop(d_index, inplace=True)\n",
    "\n",
    "senior_df.info()    "
   ]
  },
  {
   "cell_type": "code",
   "execution_count": null,
   "id": "6581a065",
   "metadata": {},
   "outputs": [],
   "source": [
    "import matplotlib\n",
    "matplotlib.rcParams['font.family'] ='Malgun Gothic'\n",
    "matplotlib.rcParams['axes.unicode_minus'] =False\n",
    "\n",
    "import warnings\n",
    "warnings.filterwarnings('ignore')"
   ]
  },
  {
   "cell_type": "code",
   "execution_count": null,
   "id": "c0977179",
   "metadata": {},
   "outputs": [
    {
     "data": {
      "image/png": "[encoded data removed]",
      "text/plain": [
       "<Figure size 1152x864 with 6 Axes>"
      ]
     },
     "metadata": {
      "needs_background": "light"
     },
     "output_type": "display_data"
    }
   ],
   "source": [
    "_, axs = plt.subplots(3, 2, figsize=(16, 12))\n",
    "for idx, feature in enumerate(senior_df.columns[:-1]):\n",
    "    row, col = idx // 2, idx % 2 # 4로 나눈 몫과 나머지\n",
    "    sns.regplot(x=feature, y=senior_df['target'], data=senior_df, ax=axs[row][col])\n",
    "plt.show()"
   ]
  },
  {
   "cell_type": "code",
   "execution_count": null,
   "id": "082f9639",
   "metadata": {
    "scrolled": true
   },
   "outputs": [
    {
     "name": "stdout",
     "output_type": "stream",
     "text": [
      "연령:\t0.0267\n",
      "혼인상태:\t0.0000\n",
      "동거인수:\t0.0013\n",
      "교육수준:\t0.0402\n",
      "경제상태 만족도:\t0.0000\n",
      "삶 만족도:\t0.0002\n"
     ]
    }
   ],
   "source": [
    "from sklearn.linear_model import LinearRegression\n",
    "for feature in senior_df.columns[:-1]:\n",
    "    lr = LinearRegression()\n",
    "    X = senior_df[feature].values.reshape(-1,1)\n",
    "    lr.fit(X, senior_df.target)\n",
    "    score = lr.score(X, senior_df.target)\n",
    "    print(f\"{feature}:\\t{score:.4f}\")"
   ]
  },
  {
   "cell_type": "markdown",
   "id": "6f6f164b",
   "metadata": {},
   "source": [
    "#### Polynomial Regression"
   ]
  },
  {
   "cell_type": "code",
   "execution_count": null,
   "id": "7bc8851e",
   "metadata": {},
   "outputs": [
    {
     "name": "stdout",
     "output_type": "stream",
     "text": [
      "변환된 6차 다항식 계수 피처 :  [6.70000000e+01 1.00000000e+00 4.00000000e+00 2.00000000e+00\n",
      " 1.00000000e+00 3.00000000e+00 4.48900000e+03 6.70000000e+01\n",
      " 2.68000000e+02 1.34000000e+02 6.70000000e+01 2.01000000e+02\n",
      " 1.00000000e+00 4.00000000e+00 2.00000000e+00 1.00000000e+00\n",
      " 3.00000000e+00 1.60000000e+01 8.00000000e+00 4.00000000e+00\n",
      " 1.20000000e+01 4.00000000e+00 2.00000000e+00 6.00000000e+00\n",
      " 1.00000000e+00 3.00000000e+00 9.00000000e+00 3.00763000e+05\n",
      " 4.48900000e+03 1.79560000e+04 8.97800000e+03 4.48900000e+03\n",
      " 1.34670000e+04 6.70000000e+01 2.68000000e+02 1.34000000e+02\n",
      " 6.70000000e+01 2.01000000e+02 1.07200000e+03 5.36000000e+02\n",
      " 2.68000000e+02 8.04000000e+02 2.68000000e+02 1.34000000e+02\n",
      " 4.02000000e+02 6.70000000e+01 2.01000000e+02 6.03000000e+02\n",
      " 1.00000000e+00 4.00000000e+00 2.00000000e+00 1.00000000e+00\n",
      " 3.00000000e+00 1.60000000e+01 8.00000000e+00 4.00000000e+00\n",
      " 1.20000000e+01 4.00000000e+00 2.00000000e+00 6.00000000e+00\n",
      " 1.00000000e+00 3.00000000e+00 9.00000000e+00 6.40000000e+01\n",
      " 3.20000000e+01 1.60000000e+01 4.80000000e+01 1.60000000e+01\n",
      " 8.00000000e+00 2.40000000e+01 4.00000000e+00 1.20000000e+01\n",
      " 3.60000000e+01 8.00000000e+00 4.00000000e+00 1.20000000e+01\n",
      " 2.00000000e+00 6.00000000e+00 1.80000000e+01 1.00000000e+00\n",
      " 3.00000000e+00 9.00000000e+00 2.70000000e+01 2.01511210e+07\n",
      " 3.00763000e+05 1.20305200e+06 6.01526000e+05 3.00763000e+05\n",
      " 9.02289000e+05 4.48900000e+03 1.79560000e+04 8.97800000e+03\n",
      " 4.48900000e+03 1.34670000e+04 7.18240000e+04 3.59120000e+04\n",
      " 1.79560000e+04 5.38680000e+04 1.79560000e+04 8.97800000e+03\n",
      " 2.69340000e+04 4.48900000e+03 1.34670000e+04 4.04010000e+04\n",
      " 6.70000000e+01 2.68000000e+02 1.34000000e+02 6.70000000e+01\n",
      " 2.01000000e+02 1.07200000e+03 5.36000000e+02 2.68000000e+02\n",
      " 8.04000000e+02 2.68000000e+02 1.34000000e+02 4.02000000e+02\n",
      " 6.70000000e+01 2.01000000e+02 6.03000000e+02 4.28800000e+03\n",
      " 2.14400000e+03 1.07200000e+03 3.21600000e+03 1.07200000e+03\n",
      " 5.36000000e+02 1.60800000e+03 2.68000000e+02 8.04000000e+02\n",
      " 2.41200000e+03 5.36000000e+02 2.68000000e+02 8.04000000e+02\n",
      " 1.34000000e+02 4.02000000e+02 1.20600000e+03 6.70000000e+01\n",
      " 2.01000000e+02 6.03000000e+02 1.80900000e+03 1.00000000e+00\n",
      " 4.00000000e+00 2.00000000e+00 1.00000000e+00 3.00000000e+00\n",
      " 1.60000000e+01 8.00000000e+00 4.00000000e+00 1.20000000e+01\n",
      " 4.00000000e+00 2.00000000e+00 6.00000000e+00 1.00000000e+00\n",
      " 3.00000000e+00 9.00000000e+00 6.40000000e+01 3.20000000e+01\n",
      " 1.60000000e+01 4.80000000e+01 1.60000000e+01 8.00000000e+00\n",
      " 2.40000000e+01 4.00000000e+00 1.20000000e+01 3.60000000e+01\n",
      " 8.00000000e+00 4.00000000e+00 1.20000000e+01 2.00000000e+00\n",
      " 6.00000000e+00 1.80000000e+01 1.00000000e+00 3.00000000e+00\n",
      " 9.00000000e+00 2.70000000e+01 2.56000000e+02 1.28000000e+02\n",
      " 6.40000000e+01 1.92000000e+02 6.40000000e+01 3.20000000e+01\n",
      " 9.60000000e+01 1.60000000e+01 4.80000000e+01 1.44000000e+02\n",
      " 3.20000000e+01 1.60000000e+01 4.80000000e+01 8.00000000e+00\n",
      " 2.40000000e+01 7.20000000e+01 4.00000000e+00 1.20000000e+01\n",
      " 3.60000000e+01 1.08000000e+02 1.60000000e+01 8.00000000e+00\n",
      " 2.40000000e+01 4.00000000e+00 1.20000000e+01 3.60000000e+01\n",
      " 2.00000000e+00 6.00000000e+00 1.80000000e+01 5.40000000e+01\n",
      " 1.00000000e+00 3.00000000e+00 9.00000000e+00 2.70000000e+01\n",
      " 8.10000000e+01 1.35012511e+09 2.01511210e+07 8.06044840e+07\n",
      " 4.03022420e+07 2.01511210e+07 6.04533630e+07 3.00763000e+05\n",
      " 1.20305200e+06 6.01526000e+05 3.00763000e+05 9.02289000e+05\n",
      " 4.81220800e+06 2.40610400e+06 1.20305200e+06 3.60915600e+06\n",
      " 1.20305200e+06 6.01526000e+05 1.80457800e+06 3.00763000e+05\n",
      " 9.02289000e+05 2.70686700e+06 4.48900000e+03 1.79560000e+04\n",
      " 8.97800000e+03 4.48900000e+03 1.34670000e+04 7.18240000e+04\n",
      " 3.59120000e+04 1.79560000e+04 5.38680000e+04 1.79560000e+04\n",
      " 8.97800000e+03 2.69340000e+04 4.48900000e+03 1.34670000e+04\n",
      " 4.04010000e+04 2.87296000e+05 1.43648000e+05 7.18240000e+04\n",
      " 2.15472000e+05 7.18240000e+04 3.59120000e+04 1.07736000e+05\n",
      " 1.79560000e+04 5.38680000e+04 1.61604000e+05 3.59120000e+04\n",
      " 1.79560000e+04 5.38680000e+04 8.97800000e+03 2.69340000e+04\n",
      " 8.08020000e+04 4.48900000e+03 1.34670000e+04 4.04010000e+04\n",
      " 1.21203000e+05 6.70000000e+01 2.68000000e+02 1.34000000e+02\n",
      " 6.70000000e+01 2.01000000e+02 1.07200000e+03 5.36000000e+02\n",
      " 2.68000000e+02 8.04000000e+02 2.68000000e+02 1.34000000e+02\n",
      " 4.02000000e+02 6.70000000e+01 2.01000000e+02 6.03000000e+02\n",
      " 4.28800000e+03 2.14400000e+03 1.07200000e+03 3.21600000e+03\n",
      " 1.07200000e+03 5.36000000e+02 1.60800000e+03 2.68000000e+02\n",
      " 8.04000000e+02 2.41200000e+03 5.36000000e+02 2.68000000e+02\n",
      " 8.04000000e+02 1.34000000e+02 4.02000000e+02 1.20600000e+03\n",
      " 6.70000000e+01 2.01000000e+02 6.03000000e+02 1.80900000e+03\n",
      " 1.71520000e+04 8.57600000e+03 4.28800000e+03 1.28640000e+04\n",
      " 4.28800000e+03 2.14400000e+03 6.43200000e+03 1.07200000e+03\n",
      " 3.21600000e+03 9.64800000e+03 2.14400000e+03 1.07200000e+03\n",
      " 3.21600000e+03 5.36000000e+02 1.60800000e+03 4.82400000e+03\n",
      " 2.68000000e+02 8.04000000e+02 2.41200000e+03 7.23600000e+03\n",
      " 1.07200000e+03 5.36000000e+02 1.60800000e+03 2.68000000e+02\n",
      " 8.04000000e+02 2.41200000e+03 1.34000000e+02 4.02000000e+02\n",
      " 1.20600000e+03 3.61800000e+03 6.70000000e+01 2.01000000e+02\n",
      " 6.03000000e+02 1.80900000e+03 5.42700000e+03 1.00000000e+00\n",
      " 4.00000000e+00 2.00000000e+00 1.00000000e+00 3.00000000e+00\n",
      " 1.60000000e+01 8.00000000e+00 4.00000000e+00 1.20000000e+01\n",
      " 4.00000000e+00 2.00000000e+00 6.00000000e+00 1.00000000e+00\n",
      " 3.00000000e+00 9.00000000e+00 6.40000000e+01 3.20000000e+01\n",
      " 1.60000000e+01 4.80000000e+01 1.60000000e+01 8.00000000e+00\n",
      " 2.40000000e+01 4.00000000e+00 1.20000000e+01 3.60000000e+01\n",
      " 8.00000000e+00 4.00000000e+00 1.20000000e+01 2.00000000e+00\n",
      " 6.00000000e+00 1.80000000e+01 1.00000000e+00 3.00000000e+00\n",
      " 9.00000000e+00 2.70000000e+01 2.56000000e+02 1.28000000e+02\n",
      " 6.40000000e+01 1.92000000e+02 6.40000000e+01 3.20000000e+01\n",
      " 9.60000000e+01 1.60000000e+01 4.80000000e+01 1.44000000e+02\n",
      " 3.20000000e+01 1.60000000e+01 4.80000000e+01 8.00000000e+00\n",
      " 2.40000000e+01 7.20000000e+01 4.00000000e+00 1.20000000e+01\n",
      " 3.60000000e+01 1.08000000e+02 1.60000000e+01 8.00000000e+00\n",
      " 2.40000000e+01 4.00000000e+00 1.20000000e+01 3.60000000e+01\n",
      " 2.00000000e+00 6.00000000e+00 1.80000000e+01 5.40000000e+01\n",
      " 1.00000000e+00 3.00000000e+00 9.00000000e+00 2.70000000e+01\n",
      " 8.10000000e+01 1.02400000e+03 5.12000000e+02 2.56000000e+02\n",
      " 7.68000000e+02 2.56000000e+02 1.28000000e+02 3.84000000e+02\n",
      " 6.40000000e+01 1.92000000e+02 5.76000000e+02 1.28000000e+02\n",
      " 6.40000000e+01 1.92000000e+02 3.20000000e+01 9.60000000e+01\n",
      " 2.88000000e+02 1.60000000e+01 4.80000000e+01 1.44000000e+02\n",
      " 4.32000000e+02 6.40000000e+01 3.20000000e+01 9.60000000e+01\n",
      " 1.60000000e+01 4.80000000e+01 1.44000000e+02 8.00000000e+00\n",
      " 2.40000000e+01 7.20000000e+01 2.16000000e+02 4.00000000e+00\n",
      " 1.20000000e+01 3.60000000e+01 1.08000000e+02 3.24000000e+02\n",
      " 3.20000000e+01 1.60000000e+01 4.80000000e+01 8.00000000e+00\n",
      " 2.40000000e+01 7.20000000e+01 4.00000000e+00 1.20000000e+01\n",
      " 3.60000000e+01 1.08000000e+02 2.00000000e+00 6.00000000e+00\n",
      " 1.80000000e+01 5.40000000e+01 1.62000000e+02 1.00000000e+00\n",
      " 3.00000000e+00 9.00000000e+00 2.70000000e+01 8.10000000e+01\n",
      " 2.43000000e+02 9.04583822e+10 1.35012511e+09 5.40050043e+09\n",
      " 2.70025021e+09 1.35012511e+09 4.05037532e+09 2.01511210e+07\n",
      " 8.06044840e+07 4.03022420e+07 2.01511210e+07 6.04533630e+07\n",
      " 3.22417936e+08 1.61208968e+08 8.06044840e+07 2.41813452e+08\n",
      " 8.06044840e+07 4.03022420e+07 1.20906726e+08 2.01511210e+07\n",
      " 6.04533630e+07 1.81360089e+08 3.00763000e+05 1.20305200e+06\n",
      " 6.01526000e+05 3.00763000e+05 9.02289000e+05 4.81220800e+06\n",
      " 2.40610400e+06 1.20305200e+06 3.60915600e+06 1.20305200e+06\n",
      " 6.01526000e+05 1.80457800e+06 3.00763000e+05 9.02289000e+05\n",
      " 2.70686700e+06 1.92488320e+07 9.62441600e+06 4.81220800e+06\n",
      " 1.44366240e+07 4.81220800e+06 2.40610400e+06 7.21831200e+06\n",
      " 1.20305200e+06 3.60915600e+06 1.08274680e+07 2.40610400e+06\n",
      " 1.20305200e+06 3.60915600e+06 6.01526000e+05 1.80457800e+06\n",
      " 5.41373400e+06 3.00763000e+05 9.02289000e+05 2.70686700e+06\n",
      " 8.12060100e+06 4.48900000e+03 1.79560000e+04 8.97800000e+03\n",
      " 4.48900000e+03 1.34670000e+04 7.18240000e+04 3.59120000e+04\n",
      " 1.79560000e+04 5.38680000e+04 1.79560000e+04 8.97800000e+03\n",
      " 2.69340000e+04 4.48900000e+03 1.34670000e+04 4.04010000e+04\n",
      " 2.87296000e+05 1.43648000e+05 7.18240000e+04 2.15472000e+05\n",
      " 7.18240000e+04 3.59120000e+04 1.07736000e+05 1.79560000e+04\n",
      " 5.38680000e+04 1.61604000e+05 3.59120000e+04 1.79560000e+04\n",
      " 5.38680000e+04 8.97800000e+03 2.69340000e+04 8.08020000e+04\n",
      " 4.48900000e+03 1.34670000e+04 4.04010000e+04 1.21203000e+05\n",
      " 1.14918400e+06 5.74592000e+05 2.87296000e+05 8.61888000e+05\n",
      " 2.87296000e+05 1.43648000e+05 4.30944000e+05 7.18240000e+04\n",
      " 2.15472000e+05 6.46416000e+05 1.43648000e+05 7.18240000e+04\n",
      " 2.15472000e+05 3.59120000e+04 1.07736000e+05 3.23208000e+05\n",
      " 1.79560000e+04 5.38680000e+04 1.61604000e+05 4.84812000e+05\n",
      " 7.18240000e+04 3.59120000e+04 1.07736000e+05 1.79560000e+04\n",
      " 5.38680000e+04 1.61604000e+05 8.97800000e+03 2.69340000e+04\n",
      " 8.08020000e+04 2.42406000e+05 4.48900000e+03 1.34670000e+04\n",
      " 4.04010000e+04 1.21203000e+05 3.63609000e+05 6.70000000e+01\n",
      " 2.68000000e+02 1.34000000e+02 6.70000000e+01 2.01000000e+02\n",
      " 1.07200000e+03 5.36000000e+02 2.68000000e+02 8.04000000e+02\n",
      " 2.68000000e+02 1.34000000e+02 4.02000000e+02 6.70000000e+01\n",
      " 2.01000000e+02 6.03000000e+02 4.28800000e+03 2.14400000e+03\n",
      " 1.07200000e+03 3.21600000e+03 1.07200000e+03 5.36000000e+02\n",
      " 1.60800000e+03 2.68000000e+02 8.04000000e+02 2.41200000e+03\n",
      " 5.36000000e+02 2.68000000e+02 8.04000000e+02 1.34000000e+02\n",
      " 4.02000000e+02 1.20600000e+03 6.70000000e+01 2.01000000e+02\n",
      " 6.03000000e+02 1.80900000e+03 1.71520000e+04 8.57600000e+03\n",
      " 4.28800000e+03 1.28640000e+04 4.28800000e+03 2.14400000e+03\n",
      " 6.43200000e+03 1.07200000e+03 3.21600000e+03 9.64800000e+03\n",
      " 2.14400000e+03 1.07200000e+03 3.21600000e+03 5.36000000e+02\n",
      " 1.60800000e+03 4.82400000e+03 2.68000000e+02 8.04000000e+02\n",
      " 2.41200000e+03 7.23600000e+03 1.07200000e+03 5.36000000e+02\n",
      " 1.60800000e+03 2.68000000e+02 8.04000000e+02 2.41200000e+03\n",
      " 1.34000000e+02 4.02000000e+02 1.20600000e+03 3.61800000e+03\n",
      " 6.70000000e+01 2.01000000e+02 6.03000000e+02 1.80900000e+03\n",
      " 5.42700000e+03 6.86080000e+04 3.43040000e+04 1.71520000e+04\n",
      " 5.14560000e+04 1.71520000e+04 8.57600000e+03 2.57280000e+04\n",
      " 4.28800000e+03 1.28640000e+04 3.85920000e+04 8.57600000e+03\n",
      " 4.28800000e+03 1.28640000e+04 2.14400000e+03 6.43200000e+03\n",
      " 1.92960000e+04 1.07200000e+03 3.21600000e+03 9.64800000e+03\n",
      " 2.89440000e+04 4.28800000e+03 2.14400000e+03 6.43200000e+03\n",
      " 1.07200000e+03 3.21600000e+03 9.64800000e+03 5.36000000e+02\n",
      " 1.60800000e+03 4.82400000e+03 1.44720000e+04 2.68000000e+02\n",
      " 8.04000000e+02 2.41200000e+03 7.23600000e+03 2.17080000e+04\n",
      " 2.14400000e+03 1.07200000e+03 3.21600000e+03 5.36000000e+02\n",
      " 1.60800000e+03 4.82400000e+03 2.68000000e+02 8.04000000e+02\n",
      " 2.41200000e+03 7.23600000e+03 1.34000000e+02 4.02000000e+02\n",
      " 1.20600000e+03 3.61800000e+03 1.08540000e+04 6.70000000e+01\n",
      " 2.01000000e+02 6.03000000e+02 1.80900000e+03 5.42700000e+03\n",
      " 1.62810000e+04 1.00000000e+00 4.00000000e+00 2.00000000e+00\n",
      " 1.00000000e+00 3.00000000e+00 1.60000000e+01 8.00000000e+00\n",
      " 4.00000000e+00 1.20000000e+01 4.00000000e+00 2.00000000e+00\n",
      " 6.00000000e+00 1.00000000e+00 3.00000000e+00 9.00000000e+00\n",
      " 6.40000000e+01 3.20000000e+01 1.60000000e+01 4.80000000e+01\n",
      " 1.60000000e+01 8.00000000e+00 2.40000000e+01 4.00000000e+00\n",
      " 1.20000000e+01 3.60000000e+01 8.00000000e+00 4.00000000e+00\n",
      " 1.20000000e+01 2.00000000e+00 6.00000000e+00 1.80000000e+01\n",
      " 1.00000000e+00 3.00000000e+00 9.00000000e+00 2.70000000e+01\n",
      " 2.56000000e+02 1.28000000e+02 6.40000000e+01 1.92000000e+02\n",
      " 6.40000000e+01 3.20000000e+01 9.60000000e+01 1.60000000e+01\n",
      " 4.80000000e+01 1.44000000e+02 3.20000000e+01 1.60000000e+01\n",
      " 4.80000000e+01 8.00000000e+00 2.40000000e+01 7.20000000e+01\n",
      " 4.00000000e+00 1.20000000e+01 3.60000000e+01 1.08000000e+02\n",
      " 1.60000000e+01 8.00000000e+00 2.40000000e+01 4.00000000e+00\n",
      " 1.20000000e+01 3.60000000e+01 2.00000000e+00 6.00000000e+00\n",
      " 1.80000000e+01 5.40000000e+01 1.00000000e+00 3.00000000e+00\n",
      " 9.00000000e+00 2.70000000e+01 8.10000000e+01 1.02400000e+03\n",
      " 5.12000000e+02 2.56000000e+02 7.68000000e+02 2.56000000e+02\n",
      " 1.28000000e+02 3.84000000e+02 6.40000000e+01 1.92000000e+02\n",
      " 5.76000000e+02 1.28000000e+02 6.40000000e+01 1.92000000e+02\n",
      " 3.20000000e+01 9.60000000e+01 2.88000000e+02 1.60000000e+01\n",
      " 4.80000000e+01 1.44000000e+02 4.32000000e+02 6.40000000e+01\n",
      " 3.20000000e+01 9.60000000e+01 1.60000000e+01 4.80000000e+01\n",
      " 1.44000000e+02 8.00000000e+00 2.40000000e+01 7.20000000e+01\n",
      " 2.16000000e+02 4.00000000e+00 1.20000000e+01 3.60000000e+01\n",
      " 1.08000000e+02 3.24000000e+02 3.20000000e+01 1.60000000e+01\n",
      " 4.80000000e+01 8.00000000e+00 2.40000000e+01 7.20000000e+01\n",
      " 4.00000000e+00 1.20000000e+01 3.60000000e+01 1.08000000e+02\n",
      " 2.00000000e+00 6.00000000e+00 1.80000000e+01 5.40000000e+01\n",
      " 1.62000000e+02 1.00000000e+00 3.00000000e+00 9.00000000e+00\n",
      " 2.70000000e+01 8.10000000e+01 2.43000000e+02 4.09600000e+03\n",
      " 2.04800000e+03 1.02400000e+03 3.07200000e+03 1.02400000e+03\n",
      " 5.12000000e+02 1.53600000e+03 2.56000000e+02 7.68000000e+02\n",
      " 2.30400000e+03 5.12000000e+02 2.56000000e+02 7.68000000e+02\n",
      " 1.28000000e+02 3.84000000e+02 1.15200000e+03 6.40000000e+01\n",
      " 1.92000000e+02 5.76000000e+02 1.72800000e+03 2.56000000e+02\n",
      " 1.28000000e+02 3.84000000e+02 6.40000000e+01 1.92000000e+02\n",
      " 5.76000000e+02 3.20000000e+01 9.60000000e+01 2.88000000e+02\n",
      " 8.64000000e+02 1.60000000e+01 4.80000000e+01 1.44000000e+02\n",
      " 4.32000000e+02 1.29600000e+03 1.28000000e+02 6.40000000e+01\n",
      " 1.92000000e+02 3.20000000e+01 9.60000000e+01 2.88000000e+02\n",
      " 1.60000000e+01 4.80000000e+01 1.44000000e+02 4.32000000e+02\n",
      " 8.00000000e+00 2.40000000e+01 7.20000000e+01 2.16000000e+02\n",
      " 6.48000000e+02 4.00000000e+00 1.20000000e+01 3.60000000e+01\n",
      " 1.08000000e+02 3.24000000e+02 9.72000000e+02 6.40000000e+01\n",
      " 3.20000000e+01 9.60000000e+01 1.60000000e+01 4.80000000e+01\n",
      " 1.44000000e+02 8.00000000e+00 2.40000000e+01 7.20000000e+01\n",
      " 2.16000000e+02 4.00000000e+00 1.20000000e+01 3.60000000e+01\n",
      " 1.08000000e+02 3.24000000e+02 2.00000000e+00 6.00000000e+00\n",
      " 1.80000000e+01 5.40000000e+01 1.62000000e+02 4.86000000e+02\n",
      " 1.00000000e+00 3.00000000e+00 9.00000000e+00 2.70000000e+01\n",
      " 8.10000000e+01 2.43000000e+02 7.29000000e+02]\n"
     ]
    }
   ],
   "source": [
    "from sklearn.preprocessing import PolynomialFeatures\n",
    "\n",
    "X=senior_df.iloc[:,:-1]\n",
    "y=senior_df.iloc[:,-1]\n",
    "\n",
    "poly_features = PolynomialFeatures(degree=6, include_bias=False)\n",
    "X_poly = poly_features.fit_transform(X)\n",
    "\n",
    "print('변환된 6차 다항식 계수 피처 : ',X_poly[0])"
   ]
  },
  {
   "cell_type": "code",
   "execution_count": null,
   "id": "b45676d1",
   "metadata": {},
   "outputs": [
    {
     "data": {
      "text/plain": [
       "(-16146.981475342494,\n",
       " array([ 1.87269185e-05,  3.22105190e-01,  1.16451017e-01, -7.02562777e-02,\n",
       "         2.82112775e+00, -8.21905212e-02,  8.32335246e-01, -5.09303521e-01,\n",
       "        -4.36374125e+00, -4.69565779e-02, -1.94075083e+00,  3.00069394e+00,\n",
       "         1.67497829e+00,  1.09700705e+00,  5.80265131e-01,  4.55398853e+00,\n",
       "        -1.42939391e+00, -6.14567377e+00,  3.14070644e-01,  1.46755196e+01,\n",
       "        -1.18385182e+00, -2.11175384e-01,  5.56786077e+00, -3.73492556e-01,\n",
       "         4.75269325e+00, -5.87310713e+00,  1.02003994e-01, -7.38801608e-02,\n",
       "         6.59687268e-02,  3.26504093e+00,  1.00301122e+00,  1.72869530e+00,\n",
       "        -3.64310585e-02, -1.66308526e+00,  5.04303445e+00, -1.16428940e+00,\n",
       "        -6.52074386e+00,  3.92197464e-01, -2.47281242e+00, -4.03450245e+00,\n",
       "        -7.78342604e+00, -1.40593077e+01, -9.21562716e-01, -1.64136798e+00,\n",
       "         3.59267035e+00, -3.07782615e+00, -3.99925165e+00,  7.20802712e+00,\n",
       "         4.93470079e+00,  3.70338187e+00,  3.29037882e+00,  8.23658952e+00,\n",
       "        -2.00227727e+00,  1.06183467e+00,  1.89929093e+00,  3.09345867e+00,\n",
       "        -2.68312502e+00,  1.09579121e+00,  9.04024634e+00, -3.05051187e+00,\n",
       "         9.03709609e+00, -5.41086124e+00, -4.43688802e+00, -9.13556352e+00,\n",
       "        -1.21838344e+01, -1.77423566e+01, -2.47363562e+00,  7.10148267e-01,\n",
       "         2.91426465e+01, -2.11696903e+00,  3.40399586e+01,  2.14300218e+00,\n",
       "        -3.20503816e+00, -4.92791337e-01,  1.10613657e+01, -9.56111009e-01,\n",
       "         8.94007724e+00, -1.19642825e+01, -4.21819036e-01,  4.24337074e-01,\n",
       "        -3.88483222e-01, -1.84262216e+01,  1.51496205e+00,  1.83591021e-03,\n",
       "         1.28669627e-01, -7.12777560e-02, -8.16439279e-02, -1.79705583e-01,\n",
       "        -2.99464823e-02, -1.64263977e-01, -5.08180919e-01, -1.30571789e-01,\n",
       "         2.27496487e+00, -1.36219054e+00, -2.29423619e+00,  2.34515508e+00,\n",
       "         2.15843311e+00,  5.77316595e+00,  1.34428603e+00,  1.24259659e+00,\n",
       "        -1.84653551e-01,  1.21191511e+00,  2.28692800e+00, -1.23583558e+00,\n",
       "        -2.38587758e+00,  1.24453969e+01, -2.26224880e+00, -1.30177067e+01,\n",
       "        -2.88992744e+00,  9.85407494e+00,  6.48386305e+00,  3.72369440e+00,\n",
       "         1.15610960e+01, -2.47413510e+00, -6.90680238e+00,  4.62732958e-01,\n",
       "        -7.28110536e+00, -9.80000725e+00,  2.05552415e+00,  7.42557482e+00,\n",
       "         3.46900782e+00, -4.06848511e+00, -1.92419249e+01, -3.37596961e+00,\n",
       "        -1.16978514e+01, -1.38368030e+01, -7.03804471e+00, -3.72675488e+00,\n",
       "        -2.80326736e+01, -2.67070161e+00, -1.04253864e+00,  4.77654527e+00,\n",
       "        -3.86278524e+00, -1.09416517e+00,  7.26396097e+00,  1.28806101e+00,\n",
       "        -8.76056133e+00, -7.93870779e+00,  1.25818834e+01,  1.04603162e+01,\n",
       "         9.04994617e+00,  9.81068752e+00,  1.37119015e+01, -1.48422467e+00,\n",
       "         1.65506764e+01,  6.36775348e+00, -7.60271998e+00, -3.74634460e+00,\n",
       "         6.52119183e+00,  1.64384675e+01, -4.17983456e+00,  1.61095295e+01,\n",
       "        -3.83410105e+00, -7.15049849e+00, -1.44955588e+01,  6.93670501e-01,\n",
       "        -4.54924346e+00, -4.95005037e+00,  3.50380878e+00,  5.37015105e+00,\n",
       "        -6.24291173e+00, -1.15487128e+01, -1.83997328e+01, -5.80297135e+00,\n",
       "         2.12676251e+00,  1.80128265e+01, -6.29272822e+00,  1.70543228e+01,\n",
       "        -1.10181311e+01, -9.44757032e+00,  9.59515224e+00,  1.80968910e-01,\n",
       "        -1.73666115e+01, -8.96246526e+00,  8.27587008e+00, -1.96063786e+01,\n",
       "         2.61707225e-02,  1.31063957e+01, -2.42599321e+01, -3.60251961e+01,\n",
       "        -4.61302157e+00, -2.64625499e+01, -3.64476752e+01,  3.50593745e+00,\n",
       "         1.50200765e+00,  5.80770797e+01, -3.98333031e+00,  6.61590614e+01,\n",
       "         3.67705059e+00, -5.65451718e+00,  4.94000954e+01, -4.65734236e+00,\n",
       "        -1.42383729e+01, -5.51107095e+00, -1.05597631e+00,  2.20481541e+01,\n",
       "        -2.12146835e+00,  1.73146774e+01, -2.41466167e+01, -1.46943968e+00,\n",
       "        -2.15404913e+00, -2.46809767e+00, -3.75032694e+01,  1.15444585e+00,\n",
       "        -2.10400081e+01,  3.92053576e+01, -9.18521656e+00, -2.90253855e+01,\n",
       "         7.47533011e+00, -2.03176703e-04, -4.02403218e-03,  8.09930970e-03,\n",
       "         1.97669716e-03,  4.88321080e-03,  1.00098170e-02,  4.42365044e-02,\n",
       "         4.83077338e-02,  9.33039815e-02, -1.42047800e-01,  1.15315944e-01,\n",
       "        -1.45125957e-02, -1.02427357e-02, -9.14540929e-02, -5.63497196e-01,\n",
       "        -9.71620461e-02, -1.04841631e-01, -2.37518968e-02,  3.39664415e-02,\n",
       "        -1.68974790e-01,  2.99848406e-03, -9.30270158e-02, -2.13781844e+00,\n",
       "        -1.42800554e-01,  2.23719698e+00, -1.67443812e-01,  1.29124289e+00,\n",
       "        -5.60383228e-01, -1.75210238e-01, -4.78708980e+00, -5.23593920e-01,\n",
       "         1.61551004e+00, -1.19441201e-01,  6.58703984e-01,  1.86094404e+00,\n",
       "        -2.57286941e+00,  1.50947723e-01, -1.80103808e+00, -2.55152515e-01,\n",
       "         2.72956733e+00,  5.05374981e-01,  1.42618603e+00,  3.87887764e+00,\n",
       "         1.19154209e+00,  1.87365786e+00,  7.56137293e+00,  2.02684367e+00,\n",
       "         2.70406421e-01, -4.81037148e-01,  1.62559105e+00,  9.56949286e-01,\n",
       "        -8.86694993e-01, -2.35296927e+00,  2.75568175e-01,  2.66727103e+00,\n",
       "        -2.01972384e+00,  2.44170764e+00,  9.78494818e+00, -1.45737503e+00,\n",
       "        -1.72585064e+01, -4.77030281e+00, -6.18626878e+00,  5.12964601e+00,\n",
       "         1.31989535e+01,  2.86621053e+01, -3.46056401e+00, -1.13779215e+01,\n",
       "        -2.47204403e+00, -1.26929295e+01, -1.33833526e+01, -2.52926057e+00,\n",
       "        -1.42107711e+01,  4.94306284e+00, -8.19930173e+00,  3.06527098e+01,\n",
       "         9.36552172e+00,  4.11740832e+00,  1.26192602e+01, -1.86849228e+00,\n",
       "         5.27397522e+00,  1.27450990e+01, -5.09385010e+00, -7.67891492e+00,\n",
       "         6.03837151e-01, -7.43588026e+00, -9.83515861e-01,  3.15693858e+00,\n",
       "         5.70759922e+00, -8.21816388e+00, -1.32698716e+01,  4.96306370e+00,\n",
       "        -7.10452615e+00,  3.93241812e+00,  1.28496419e+01,  1.30289069e+01,\n",
       "         1.53526739e+01,  7.90728278e+00, -1.30241705e+01, -1.47049474e+01,\n",
       "        -3.06050992e+01, -3.34281584e+01, -2.05892018e+00, -1.95266869e+01,\n",
       "        -1.33917883e+01, -1.33360195e+01,  4.61086308e+00, -1.31078701e+01,\n",
       "         3.78658253e+00,  1.24151884e+01, -1.95335899e+00, -3.97261689e+01,\n",
       "        -6.16901165e+00,  1.55093452e-01,  7.14428519e+00, -5.43270131e+00,\n",
       "         4.71600625e+00,  7.37584665e+00, -2.45819274e+00, -1.06101020e+01,\n",
       "         4.92580199e+00,  3.78252324e+00,  1.41987423e+01, -2.97515391e+00,\n",
       "        -1.03496125e+01, -1.52850644e+01,  1.42075433e+01,  1.64985941e+01,\n",
       "         1.53865732e+01,  2.04707908e+01,  1.83898166e+01, -3.43580622e+00,\n",
       "         3.31052899e+01,  1.57574942e+01, -1.18494352e+01, -5.46894241e+00,\n",
       "         1.95626661e+01,  2.75420364e+01, -3.14294889e+00,  2.17771735e+01,\n",
       "        -6.35295965e+00, -7.59131049e+00,  2.59506741e+01,  2.95369995e+01,\n",
       "        -4.05956536e+01, -6.67237758e+00,  1.16965041e+01, -1.70260501e+01,\n",
       "        -1.06006809e+01, -4.27970384e+01, -2.20759673e+01, -5.19326995e+00,\n",
       "         1.29828135e+01,  3.28422249e+01, -8.53495188e+00,  3.05081198e+01,\n",
       "        -7.76822740e+00, -1.48277894e+01,  1.92708110e+01, -3.16661353e+00,\n",
       "        -1.32941724e+01, -1.08281019e+01, -8.01766296e-01, -3.31544487e+01,\n",
       "         1.73889330e+01, -5.64133716e+01, -4.26599336e-02, -1.15321189e+01,\n",
       "        -1.41736168e+01,  6.27447888e+01,  6.16867237e+01, -5.86879128e+00,\n",
       "         6.71283611e+00,  9.92353533e+00, -1.33624894e+01, -2.69637687e+01,\n",
       "        -3.92287499e+01, -1.42379589e+01, -5.07026843e+01, -3.78092553e+01,\n",
       "        -2.80172018e+01,  1.27875385e+00,  4.18869533e+00,  3.59580027e+01,\n",
       "        -1.27771607e+01,  3.30887753e+01, -2.22326777e+01, -1.94689326e+01,\n",
       "         1.33973036e+01, -2.68353905e+00, -3.53305969e+01, -1.96479131e+01,\n",
       "        -3.91347491e-01,  2.52744441e+01, -8.94350516e+00, -1.73565657e+01,\n",
       "        -1.35454336e+01,  1.11869660e+01,  1.04700206e+01, -3.10196749e-01,\n",
       "        -1.13795886e+01, -4.05480135e+01, -5.89766175e-01,  2.22109484e+01,\n",
       "         1.53788459e+01,  1.15058219e+02,  2.78243312e+01, -4.84121229e+01,\n",
       "        -7.25908758e+01, -8.89178948e+00, -5.63546777e+01, -7.44829772e+01,\n",
       "         8.00989367e+00, -1.65683501e+01, -3.95483576e+01, -2.48836465e+01,\n",
       "         1.13709044e+01,  3.08572825e+00,  1.15945944e+02, -7.71605584e+00,\n",
       "         1.30397269e+02,  6.74514660e+00, -1.05534744e+01,  8.99229970e+01,\n",
       "        -1.50626332e+01, -3.03056296e+01, -8.75515684e+00,  3.35839544e+01,\n",
       "        -2.05835711e+01, -4.15555404e+01, -2.09506790e+01, -4.91371831e+00,\n",
       "        -2.18235105e+00,  4.40217267e+01, -4.45218317e+00,  3.40638748e+01,\n",
       "        -4.85112847e+01, -3.56467960e+00, -7.31082086e+00, -6.62732795e+00,\n",
       "        -7.56573658e+01,  4.33410793e-01, -5.43549531e+01,  6.92316534e+01,\n",
       "        -2.34568802e+01, -6.00046583e+01,  9.32609858e+00, -5.53235716e+01,\n",
       "         1.13964906e+02,  6.29961558e+01, -2.23213153e+01, -6.70257470e+00,\n",
       "         2.87993249e+01,  3.50212369e-07,  9.40150285e-06, -2.60814166e-06,\n",
       "         5.49111513e-05, -2.19144515e-06, -2.21081775e-05, -5.19076019e-05,\n",
       "         6.53456832e-05,  1.07282897e-03, -1.81539001e-05, -5.62325708e-04,\n",
       "        -1.54916065e-05, -5.13459780e-03,  2.62991576e-05,  1.00831219e-03,\n",
       "         2.87448184e-03, -1.93718344e-03, -5.32748808e-03,  5.27038636e-05,\n",
       "        -1.70271387e-04,  1.72753412e-03,  8.93165181e-05, -6.51345238e-04,\n",
       "        -9.56135216e-02, -1.69828063e-04,  5.49045301e-02,  3.43084817e-04,\n",
       "        -1.78335048e-02, -4.34219056e-04, -1.03136843e-02,  2.24987103e-02,\n",
       "         7.05955468e-02, -2.56658879e-02,  1.50005706e-04,  2.30923004e-03,\n",
       "        -7.16876796e-03,  3.69361359e-06,  2.97811564e-02,  1.25297100e-04,\n",
       "        -1.40142924e-02,  1.11892025e-01,  3.64667356e-02,  2.53093563e-01,\n",
       "        -1.73613708e-04,  3.78475589e-03, -3.18965987e-02, -1.28152753e-01,\n",
       "         4.49821119e-02, -1.16789777e-02, -1.95801418e-02,  1.25374684e-01,\n",
       "         7.63673819e-02, -6.40845333e-04, -1.91126134e-03, -8.07142599e-03,\n",
       "        -9.70856592e-02,  2.61366596e-04,  2.41038816e-03,  2.10741078e+00,\n",
       "        -9.90250461e-04, -1.38373440e+00, -3.53295047e-03,  1.91125615e+00,\n",
       "        -2.67524364e-03, -5.08338933e-01, -9.98939322e-02, -1.54757512e+00,\n",
       "         2.30795341e-01, -1.08118125e-03,  3.06488255e-01, -2.53285562e-01,\n",
       "         2.26448969e-03, -3.04032148e-01,  6.18533932e-04, -2.56131289e-01,\n",
       "        -6.64759770e-01, -2.00688031e-01, -5.18985742e-01,  1.40845616e-03,\n",
       "         2.22947899e-01,  2.62946757e+00, -1.30963777e+00,  2.96601380e-01,\n",
       "         2.36606452e+00, -4.13589975e-01, -2.68713404e+00, -1.40268359e+00,\n",
       "         1.37069741e-03,  4.11858055e-02,  3.43168328e-01, -5.75477935e-02,\n",
       "        -3.37483968e-04, -6.69952140e-02,  7.98479767e-05, -6.05766153e-03,\n",
       "        -8.14635521e-01, -3.03525254e-02, -3.09305890e-01,  1.54584729e-03,\n",
       "         9.22718819e-02,  2.99411165e-01, -3.17418479e+00, -3.83188236e-02,\n",
       "         9.02824692e-02, -3.26718978e-01, -2.25308574e+00, -7.12943633e+00,\n",
       "         9.49470043e-06, -1.71733768e-01,  4.29276348e-01,  1.45363013e+00,\n",
       "         3.39195909e+00, -1.67397372e+00, -1.07380940e+00,  2.45294961e+00,\n",
       "        -1.70301132e+00, -1.88408277e-01, -1.32703055e+00,  1.45551183e+00,\n",
       "        -3.66640421e+00,  2.72905714e+00,  5.11155300e-01,  1.34304248e-02,\n",
       "        -5.82284658e-01,  1.21954169e+00,  1.25702765e+00, -9.68704545e-03,\n",
       "        -1.92988611e-02, -1.58593510e+01,  3.67156697e-03,  9.81791081e+00,\n",
       "         2.25325183e-02, -2.10011297e+01, -1.24579936e-02,  1.06544984e+01,\n",
       "         3.99629368e-01,  4.07777355e-01,  2.76491270e-01, -3.89981209e-03,\n",
       "         5.53702747e+00,  1.96833310e+00,  5.76428798e-03, -1.04510978e+01,\n",
       "        -7.26798915e-03,  9.13692604e+00, -9.50185467e+00,  1.90434622e+01,\n",
       "        -1.69756091e+00, -3.26779126e-02, -1.68574383e+01, -8.17491920e+00,\n",
       "        -5.85719512e+00, -8.09835003e+00, -1.63627800e+00,  3.30276029e+00,\n",
       "         1.71502765e+01,  4.66727333e+00,  3.57220836e-02,  2.03991148e+00,\n",
       "        -1.44531857e-01,  6.63509031e+00,  9.51697332e-03,  6.91114980e+00,\n",
       "         1.00462337e-02, -4.32103787e-02, -4.87896109e+00, -7.43808921e+00,\n",
       "         1.74392101e+01, -1.26172848e-02,  7.65502834e+00, -2.09437783e+01,\n",
       "         1.51288391e+01,  4.90483568e+00,  1.47355885e+01,  5.22603019e+00,\n",
       "         1.31016271e+00, -6.36900635e+00, -1.77482817e-02, -2.80661708e+00,\n",
       "        -7.03277049e+00, -2.04432604e+01, -1.03332802e+01, -9.22314004e+00,\n",
       "         8.86045591e-01, -7.74543012e+00,  1.66494673e+01,  5.35976697e+00,\n",
       "         6.01663789e+00,  5.55059547e+00,  2.85757533e+01,  6.86590276e+00,\n",
       "        -1.89825652e+00,  3.10274339e-01, -1.96239768e+00, -1.09436252e+01,\n",
       "         9.52070249e+00,  9.26367268e-04,  4.92074331e+00, -5.44364441e-04,\n",
       "        -9.06822930e-01, -3.05389663e+00, -1.12960316e+01, -8.25231152e+00,\n",
       "         5.32710744e-03,  3.23126140e+00,  8.78409307e-01,  3.91200059e+01,\n",
       "         3.18588191e+01, -5.88661715e-01,  9.91934688e+00, -1.27127994e+01,\n",
       "         8.78404837e+00,  7.34933198e-04, -1.80989960e+00,  3.67591031e+00,\n",
       "        -3.74472878e+00,  5.75178859e-01, -3.51843576e+01, -1.25017590e+01,\n",
       "        -2.59319704e+01,  2.12860986e+01,  1.67417366e+01, -1.92877246e+00,\n",
       "         2.70357740e+01,  3.17807092e+01,  4.93506459e+01, -2.44135378e-01,\n",
       "         8.48842021e-01, -7.91757389e+00, -1.74264502e+01, -1.43534637e+01,\n",
       "        -1.31656317e+01,  2.55035782e+00,  1.18797648e+01, -8.57253392e+00,\n",
       "         1.63363492e+01,  7.59961813e+00, -9.95070157e+00, -1.43091836e+01,\n",
       "         3.06548219e+01, -1.38161971e+01,  2.96750688e+01, -3.30679374e+01,\n",
       "        -8.99646077e-01,  3.17424994e+01, -3.56523799e+01, -1.04077553e+01,\n",
       "         4.88779341e+00,  3.81442666e+00,  1.58015348e+01, -2.83801068e+01,\n",
       "        -9.90734973e+00,  6.06298371e-02,  1.62129852e-02,  2.50803383e+01,\n",
       "        -7.48551566e-03, -2.24098985e+01,  3.03461133e-02,  2.58445894e+01,\n",
       "        -6.95203175e-02, -2.19821866e+01,  4.04917401e+01,  3.59990376e+01,\n",
       "        -8.23237137e+00,  6.89144015e-02, -3.02295901e+01, -1.74576516e+01,\n",
       "         4.06628904e-02,  6.23333712e+01, -2.51714110e-02, -5.33545874e+01,\n",
       "         2.91725902e+01, -2.62586325e+01, -1.79626455e+01,  3.51862285e-02,\n",
       "         2.20212426e+01, -2.76722810e+00,  3.90666234e+01,  5.52023063e+01,\n",
       "        -6.46039732e+00,  4.12316452e+01, -1.23643226e+01, -1.57146813e+01,\n",
       "         1.35939655e-01, -3.53005365e+01, -2.21836461e+01,  3.86797402e-01,\n",
       "         2.25880542e-02,  4.94017751e+01, -2.74650970e-02, -4.18936684e+01,\n",
       "         5.55096455e+01, -8.51848949e+01, -2.40196758e+01, -2.41426769e-02,\n",
       "         7.07005365e+01, -1.49165664e+01,  2.23540054e+01, -3.58727103e+01,\n",
       "        -2.43093536e+01, -9.18261190e+01, -4.95944454e+01, -1.97271483e+01,\n",
       "         2.17129889e-01,  7.57004043e+01,  5.66523801e+01,  3.22704405e+01,\n",
       "         2.59060568e+01,  6.56497398e+01, -1.72451865e+01,  5.93053005e+01,\n",
       "        -1.56364800e+01, -3.01823713e+01,  2.84767406e+01, -1.14507200e+01,\n",
       "        -2.69235729e+01, -2.32462699e+01,  5.04602719e-01, -2.85750355e+01,\n",
       "        -2.19317634e+01,  1.18296103e+01,  1.67321568e+00,  2.30544843e-02,\n",
       "         4.03812543e+00,  6.84889376e-03, -2.83487176e+00, -7.04722283e+01,\n",
       "         3.34061670e+01, -1.25301165e+02, -3.16850517e-02, -2.82522198e+01,\n",
       "         1.45999201e+02, -1.51532077e+00, -2.54978698e+01, -3.26207499e+01,\n",
       "         1.19422176e+02,  1.16133543e+02, -2.45958039e+01,  8.12038730e-02,\n",
       "        -1.00283238e+02, -8.32691139e+01,  2.56088203e+01,  1.31308907e+01,\n",
       "         1.90303039e+01, -2.76016446e+01, -5.77938805e+01, -8.08867842e+01,\n",
       "        -3.11079340e+01, -1.17389581e+02, -8.71533199e+01, -6.33702997e+01,\n",
       "        -5.35995352e+00,  2.55221320e+01,  1.00158839e+01,  2.01887971e+02,\n",
       "         5.28546027e+01,  5.54064702e+01,  8.31256096e+00,  7.18483551e+01,\n",
       "        -2.57460257e+01,  6.51576803e+01, -4.46617707e+01, -3.95116572e+01,\n",
       "         2.10016064e+01, -8.41255496e+00, -7.12585676e+01, -4.10188089e+01,\n",
       "        -2.48438485e+01,  3.30636281e+01, -2.70833322e+01, -3.65427077e+01,\n",
       "        -3.22672770e+01,  2.81635637e+00,  1.01733247e+01, -4.00093047e+01,\n",
       "        -1.42910990e+00,  5.44281849e+01, -9.30681883e+00, -7.87675070e-04,\n",
       "        -8.20123225e+00, -1.19978257e-03,  1.70721753e+00,  1.48583215e+01,\n",
       "        -1.78980296e+01, -4.11245990e+01,  1.87625983e-02,  1.20214644e+01,\n",
       "         2.15212673e+01, -8.24312832e+01, -1.82163994e+00,  4.04200538e+01,\n",
       "         2.67320642e+01,  2.28223211e+02,  4.35496063e+01,  3.07063464e-03,\n",
       "        -2.31709722e+01, -1.89080708e+02, -3.20377331e+01, -9.67165045e+01,\n",
       "        -1.45722235e+02, -1.74493253e+01, -1.16138933e+02, -1.50553581e+02,\n",
       "         1.70178061e+01, -4.95729492e+01, -8.93622408e+01, -5.45996173e+01,\n",
       "         2.56995791e+01,  2.08868691e+01, -3.11065979e+01,  2.22768894e+02,\n",
       "         1.45168411e+02,  1.48182889e+01,  6.25316944e+00,  2.31683673e+02,\n",
       "        -1.51815069e+01,  2.58873686e+02,  1.28813386e+01, -2.03513887e+01,\n",
       "         1.70968800e+02, -3.58732149e+01, -6.24401429e+01, -1.52433286e+01,\n",
       "         3.32539752e+01, -6.82962210e+01, -1.00445521e+02, -4.74254500e+01,\n",
       "        -3.03305742e+00, -4.33762728e+01,  9.27322701e+01, -1.56199400e+02,\n",
       "         6.13726798e+00,  4.37760442e+01,  1.19092392e+01, -4.43510052e+00,\n",
       "         8.79688718e+01, -9.11361280e+00,  6.75622696e+01, -9.72406207e+01,\n",
       "        -7.75515943e+00, -1.76243643e+01, -1.49457885e+01, -1.51965559e+02,\n",
       "        -1.00865934e+00, -1.20984843e+02,  1.29284245e+02, -5.20002075e+01,\n",
       "        -1.21963204e+02,  1.30276355e+01, -1.54785267e+02,  1.89448188e+02,\n",
       "         9.81783792e+01, -5.99517346e+01, -1.92776832e+01,  4.07267688e+01,\n",
       "         9.03147004e+01, -1.11007803e+02,  2.76853120e+01, -5.07359781e+01,\n",
       "        -3.52214048e+01,  1.68506466e+02,  9.96570988e+01]))"
      ]
     },
     "execution_count": 47,
     "metadata": {},
     "output_type": "execute_result"
    }
   ],
   "source": [
    "from sklearn.linear_model import LinearRegression\n",
    "\n",
    "lin_reg = LinearRegression()\n",
    "lin_reg.fit(X_poly, y)\n",
    "lin_reg.intercept_ , lin_reg.coef_"
   ]
  },
  {
   "cell_type": "code",
   "execution_count": null,
   "id": "9d4be120",
   "metadata": {},
   "outputs": [
    {
     "data": {
      "text/plain": [
       "0.23740920212260275"
      ]
     },
     "execution_count": 48,
     "metadata": {},
     "output_type": "execute_result"
    }
   ],
   "source": [
    "X_train, X_test, y_train, y_test = train_test_split(\n",
    "    X_poly, y, test_size=0.2, random_state=2022\n",
    ")\n",
    "\n",
    "lin_reg.score(X_test, y_test)"
   ]
  },
  {
   "cell_type": "markdown",
   "id": "cc8e1800",
   "metadata": {},
   "source": [
    "#### Multiple Linear Regression"
   ]
  },
  {
   "cell_type": "code",
   "execution_count": null,
   "id": "e50c5080",
   "metadata": {},
   "outputs": [],
   "source": [
    "from sklearn.linear_model import LinearRegression\n",
    "from sklearn.metrics import r2_score, mean_squared_error\n",
    "from sklearn.model_selection import train_test_split\n",
    "X_train, X_test, y_train, y_test = train_test_split(\n",
    "    senior_df.iloc[:,:-1], senior_df.iloc[:,-1], test_size=0.2, random_state=2022\n",
    ")"
   ]
  },
  {
   "cell_type": "code",
   "execution_count": null,
   "id": "6005f1ee",
   "metadata": {},
   "outputs": [
    {
     "data": {
      "text/plain": [
       "LinearRegression()"
      ]
     },
     "execution_count": 84,
     "metadata": {},
     "output_type": "execute_result"
    }
   ],
   "source": [
    "lr = LinearRegression()\n",
    "lr.fit(X_train, y_train)"
   ]
  },
  {
   "cell_type": "code",
   "execution_count": null,
   "id": "3fe2589d",
   "metadata": {},
   "outputs": [],
   "source": [
    "# R-squared\n",
    "lr.score(X_train, y_train), lr.score(X_test, y_test)"
   ]
  },
  {
   "cell_type": "markdown",
   "id": "df4dbefc",
   "metadata": {},
   "source": [
    "### 새로운 x값으로 진행 위의 회귀분석 동일하게 진행"
   ]
  },
  {
   "cell_type": "code",
   "execution_count": null,
   "id": "fe3e19e3",
   "metadata": {},
   "outputs": [
    {
     "name": "stdout",
     "output_type": "stream",
     "text": [
      "<class 'pandas.core.frame.DataFrame'>\n",
      "RangeIndex: 10097 entries, 0 to 10096\n",
      "Data columns (total 11 columns):\n",
      " #   Column       Non-Null Count  Dtype\n",
      "---  ------       --------------  -----\n",
      " 0   연령           10097 non-null  int64\n",
      " 1   혼인상태         10097 non-null  int64\n",
      " 2   교육수준         10097 non-null  int64\n",
      " 3   장애여부         10097 non-null  int64\n",
      " 4   현재 경제활동 여부   10097 non-null  int64\n",
      " 5   향후 근로 희망 여부  10097 non-null  int64\n",
      " 6   경험여부         10097 non-null  int64\n",
      " 7   경험한 참여유형     10097 non-null  int64\n",
      " 8   삶 만족도        10097 non-null  int64\n",
      " 9   수급자 여부       10097 non-null  int64\n",
      " 10  target       10097 non-null  int64\n",
      "dtypes: int64(11)\n",
      "memory usage: 867.8 KB\n"
     ]
    }
   ],
   "source": [
    "#E4 : 노인일자리 사업 경험여부\n",
    "senior_df = pd.read_csv(\"노인실태조사.csv\")\n",
    "senior_df = senior_df[['RES_AGE', 'RES_MAR', 'RES_EDU1', 'C10', 'E1',\n",
    "                       'E3', 'E4',\n",
    "                       'E4_1', 'H16_7', 'J2', 'E5_1']]\n",
    "senior_df.columns = ['연령', '혼인상태', '교육수준', '장애여부', '현재 경제활동 여부',\n",
    "                     '향후 근로 희망 여부', '경험여부',\n",
    "                     '경험한 참여유형', '삶 만족도', '수급자 여부', 'target']\n",
    "senior_df.info()"
   ]
  },
  {
   "cell_type": "code",
   "execution_count": null,
   "id": "14c82ba4",
   "metadata": {
    "scrolled": true
   },
   "outputs": [
    {
     "name": "stdout",
     "output_type": "stream",
     "text": [
      "<class 'pandas.core.frame.DataFrame'>\n",
      "Int64Index: 691 entries, 0 to 9974\n",
      "Data columns (total 11 columns):\n",
      " #   Column       Non-Null Count  Dtype\n",
      "---  ------       --------------  -----\n",
      " 0   연령           691 non-null    int64\n",
      " 1   혼인상태         691 non-null    int64\n",
      " 2   교육수준         691 non-null    int64\n",
      " 3   장애여부         691 non-null    int64\n",
      " 4   현재 경제활동 여부   691 non-null    int64\n",
      " 5   향후 근로 희망 여부  691 non-null    int64\n",
      " 6   경험여부         691 non-null    int64\n",
      " 7   경험한 참여유형     691 non-null    int64\n",
      " 8   삶 만족도        691 non-null    int64\n",
      " 9   수급자 여부       691 non-null    int64\n",
      " 10  target       691 non-null    int64\n",
      "dtypes: int64(11)\n",
      "memory usage: 64.8 KB\n"
     ]
    }
   ],
   "source": [
    "d_index = senior_df[senior_df[\"연령\"]==999].index\n",
    "senior_df.drop(d_index, inplace=True)\n",
    "\n",
    "d_index = senior_df[senior_df[\"향후 근로 희망 여부\"]==9].index\n",
    "senior_df.drop(d_index, inplace=True)\n",
    "\n",
    "# d_index = senior_df[senior_df[\"향후 희망 근로소득\"]==99999].index\n",
    "# senior_df.drop(d_index, inplace=True)\n",
    "\n",
    "d_index = senior_df[senior_df[\"경험한 참여유형\"]==9].index\n",
    "senior_df.drop(d_index, inplace=True)\n",
    "\n",
    "d_index = senior_df[senior_df[\"target\"]==9].index\n",
    "senior_df.drop(d_index, inplace=True)\n",
    "\n",
    "senior_df.info() "
   ]
  },
  {
   "cell_type": "code",
   "execution_count": null,
   "id": "f80fb3d8",
   "metadata": {},
   "outputs": [
    {
     "data": {
      "image/png": "[encoded data removed]",
      "text/plain": [
       "<Figure size 1152x864 with 12 Axes>"
      ]
     },
     "metadata": {
      "needs_background": "light"
     },
     "output_type": "display_data"
    }
   ],
   "source": [
    "_, axs = plt.subplots(4, 3, figsize=(16, 12))\n",
    "for idx, feature in enumerate(senior_df.columns[:-1]):\n",
    "    row, col = idx // 3, idx % 3\n",
    "    sns.regplot(x=feature, y=senior_df['target'], data=senior_df, ax=axs[row][col])\n",
    "plt.show()"
   ]
  },
  {
   "cell_type": "code",
   "execution_count": null,
   "id": "92e72c92",
   "metadata": {},
   "outputs": [
    {
     "name": "stdout",
     "output_type": "stream",
     "text": [
      "연령:\t0.0046\n",
      "혼인상태:\t0.0009\n",
      "교육수준:\t0.0020\n",
      "장애여부:\t0.0019\n",
      "현재 경제활동 여부:\t0.0019\n",
      "향후 근로 희망 여부:\t0.0007\n",
      "경험여부:\t0.0000\n",
      "경험한 참여유형:\t0.6663\n",
      "삶 만족도:\t0.0011\n",
      "수급자 여부:\t0.0012\n"
     ]
    }
   ],
   "source": [
    "from sklearn.linear_model import LinearRegression\n",
    "for feature in senior_df.columns[:-1]:\n",
    "    lr = LinearRegression()\n",
    "    X = senior_df[feature].values.reshape(-1,1)\n",
    "    lr.fit(X, senior_df.target)\n",
    "    score = lr.score(X, senior_df.target)\n",
    "    print(f\"{feature}:\\t{score:.4f}\")"
   ]
  },
  {
   "cell_type": "markdown",
   "id": "478c84e5",
   "metadata": {},
   "source": [
    "#### Polynomial Regression"
   ]
  },
  {
   "cell_type": "code",
   "execution_count": null,
   "id": "7db8829f",
   "metadata": {},
   "outputs": [
    {
     "name": "stdout",
     "output_type": "stream",
     "text": [
      "변환된 10차 다항식 계수 피처 :  [6.7000e+01 1.0000e+00 4.0000e+00 ... 5.9049e+04 5.9049e+04 5.9049e+04]\n"
     ]
    }
   ],
   "source": [
    "from sklearn.preprocessing import PolynomialFeatures\n",
    "\n",
    "X=senior_df.iloc[:,:-1]\n",
    "y=senior_df.iloc[:,-1]\n",
    "\n",
    "poly_features = PolynomialFeatures(degree=10, include_bias=False)\n",
    "X_poly = poly_features.fit_transform(X)\n",
    "\n",
    "print('변환된 10차 다항식 계수 피처 : ',X_poly[0])"
   ]
  },
  {
   "cell_type": "code",
   "execution_count": null,
   "id": "98d47060",
   "metadata": {},
   "outputs": [
    {
     "name": "stdout",
     "output_type": "stream",
     "text": [
      "CPU times: total: 52.2 s\n",
      "Wall time: 28.4 s\n"
     ]
    },
    {
     "data": {
      "text/plain": [
       "(1835.8097976860217,\n",
       " array([ 1.06193731e-07,  2.57598671e-08,  7.85295497e-08, ...,\n",
       "         5.96114770e-11, -3.27505813e-12,  1.10608601e-15]))"
      ]
     },
     "execution_count": 103,
     "metadata": {},
     "output_type": "execute_result"
    }
   ],
   "source": [
    "from sklearn.linear_model import LinearRegression\n",
    "\n",
    "lin_reg = LinearRegression()\n",
    "%time lin_reg.fit(X_poly, y)\n",
    "lin_reg.intercept_ , lin_reg.coef_"
   ]
  },
  {
   "cell_type": "code",
   "execution_count": null,
   "id": "a924afc9",
   "metadata": {},
   "outputs": [
    {
     "data": {
      "text/plain": [
       "0.8447500573091559"
      ]
     },
     "execution_count": 104,
     "metadata": {},
     "output_type": "execute_result"
    }
   ],
   "source": [
    "X_train, X_test, y_train, y_test = train_test_split(\n",
    "    X_poly, y, test_size=0.2, random_state=2022\n",
    ")\n",
    "\n",
    "lin_reg.score(X_test, y_test)"
   ]
  },
  {
   "cell_type": "markdown",
   "id": "99713bdc",
   "metadata": {},
   "source": [
    "#### Multiple Linear Regression"
   ]
  },
  {
   "cell_type": "code",
   "execution_count": null,
   "id": "1a547345",
   "metadata": {},
   "outputs": [],
   "source": [
    "from sklearn.linear_model import LinearRegression\n",
    "from sklearn.metrics import r2_score, mean_squared_error\n",
    "from sklearn.model_selection import train_test_split\n",
    "X_train, X_test, y_train, y_test = train_test_split(\n",
    "    senior_df.iloc[:,:-1], senior_df.iloc[:,-1], test_size=0.2, random_state=2022\n",
    ")"
   ]
  },
  {
   "cell_type": "code",
   "execution_count": null,
   "id": "80b775f6",
   "metadata": {},
   "outputs": [
    {
     "data": {
      "text/plain": [
       "LinearRegression()"
      ]
     },
     "execution_count": 106,
     "metadata": {},
     "output_type": "execute_result"
    }
   ],
   "source": [
    "lr = LinearRegression()\n",
    "lr.fit(X_train, y_train)"
   ]
  },
  {
   "cell_type": "code",
   "execution_count": null,
   "id": "04a957f4",
   "metadata": {},
   "outputs": [
    {
     "data": {
      "text/plain": [
       "(0.6881112759930955, 0.5880832382661109)"
      ]
     },
     "execution_count": 107,
     "metadata": {},
     "output_type": "execute_result"
    }
   ],
   "source": [
    "# R-squared\n",
    "lr.score(X_train, y_train), lr.score(X_test, y_test)"
   ]
  }
 ],
 "metadata": {
  "kernelspec": {
   "display_name": "Python 3 (ipykernel)",
   "language": "python",
   "name": "python3"
  },
  "language_info": {
   "codemirror_mode": {
    "name": "ipython",
    "version": 3
   },
   "file_extension": ".py",
   "mimetype": "text/x-python",
   "name": "python",
   "nbconvert_exporter": "python",
   "pygments_lexer": "ipython3",
   "version": "3.9.5"
  }
 },
 "nbformat": 4,
 "nbformat_minor": 5
}
